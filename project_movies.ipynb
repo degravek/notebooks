{
 "cells": [
  {
   "cell_type": "markdown",
   "metadata": {},
   "source": [
    "# Introduction\n",
    "\n",
    "MovieLens is a website that employs a movie recommender system to suggest new films to its users based on their own personalized movie preferences. The idea is that users can rate several of their favorite (or least favorite) films, and a collaborative filtering algorithm is used to find the most popular movies enjoyed by users with similar tastes.\n",
    "\n",
    "MovieLens has made available a small subset of its data compiled by the GroupLens Research Project at the University of Minnesota from September 19, 1997 to April 22, 1998. These data contain 100,000 movie ratings on a scale of 1 to 5 for 1,682 movies made by 943 users. Here, we will dig through some of this data to see what kinds of movies people have watched, which are most popular, and we will set up a simple movie recommender system based on a cosine similarity approach.\n",
    "\n",
    "# Exploring the Data\n",
    "\n",
    "Let's load in the data. There are three datasets - one containing demographic information for each of the users, one containing the movies, and one containing the ratings."
   ]
  },
  {
   "cell_type": "code",
   "execution_count": 646,
   "metadata": {},
   "outputs": [],
   "source": [
    "import seaborn as sns\n",
    "import pandas as pd\n",
    "import numpy as np\n",
    "\n",
    "import matplotlib.pyplot as mp\n",
    "%matplotlib inline\n",
    "\n",
    "file1 = '/Users/degrave/DataScience/site/movies/user.txt'\n",
    "file2 = '/Users/degrave/DataScience/site/movies/item.txt'\n",
    "file3 = '/Users/degrave/DataScience/site/movies/data.txt'\n",
    "\n",
    "u_cols = ['UserID','Age','Sex','Occupation','ZIPCode']\n",
    "r_cols = ['UserID','MovieID','Rating','Timestamp']\n",
    "m_cols = ['MovieID','MovieTitle','ReleaseDate','VideoReleaseDate',\n",
    "          'IMDbURL','Unknown','Action','Adventure', 'Animation','Childrens',\n",
    "          'Comedy','Crime','Documentary','Drama','Fantasy','FilmNoir','Horror',\n",
    "          'Musical','Mystery','Romance','SciFi','Thriller','War','Western']\n",
    "\n",
    "users   = pd.read_csv(file1, sep='|', names=u_cols)\n",
    "movies  = pd.read_csv(file2, sep='|', names=m_cols)\n",
    "ratings = pd.read_csv(file3, sep='\\t', names=r_cols)"
   ]
  },
  {
   "cell_type": "markdown",
   "metadata": {},
   "source": [
    "Let's first look at the user data."
   ]
  },
  {
   "cell_type": "code",
   "execution_count": 647,
   "metadata": {},
   "outputs": [
    {
     "data": {
      "text/html": [
       "<div>\n",
       "<style scoped>\n",
       "    .dataframe tbody tr th:only-of-type {\n",
       "        vertical-align: middle;\n",
       "    }\n",
       "\n",
       "    .dataframe tbody tr th {\n",
       "        vertical-align: top;\n",
       "    }\n",
       "\n",
       "    .dataframe thead th {\n",
       "        text-align: right;\n",
       "    }\n",
       "</style>\n",
       "<table border=\"1\" class=\"dataframe\">\n",
       "  <thead>\n",
       "    <tr style=\"text-align: right;\">\n",
       "      <th></th>\n",
       "      <th>UserID</th>\n",
       "      <th>Age</th>\n",
       "      <th>Sex</th>\n",
       "      <th>Occupation</th>\n",
       "      <th>ZIPCode</th>\n",
       "    </tr>\n",
       "  </thead>\n",
       "  <tbody>\n",
       "    <tr>\n",
       "      <th>0</th>\n",
       "      <td>1</td>\n",
       "      <td>24</td>\n",
       "      <td>M</td>\n",
       "      <td>technician</td>\n",
       "      <td>85711</td>\n",
       "    </tr>\n",
       "    <tr>\n",
       "      <th>1</th>\n",
       "      <td>2</td>\n",
       "      <td>53</td>\n",
       "      <td>F</td>\n",
       "      <td>other</td>\n",
       "      <td>94043</td>\n",
       "    </tr>\n",
       "    <tr>\n",
       "      <th>2</th>\n",
       "      <td>3</td>\n",
       "      <td>23</td>\n",
       "      <td>M</td>\n",
       "      <td>writer</td>\n",
       "      <td>32067</td>\n",
       "    </tr>\n",
       "    <tr>\n",
       "      <th>3</th>\n",
       "      <td>4</td>\n",
       "      <td>24</td>\n",
       "      <td>M</td>\n",
       "      <td>technician</td>\n",
       "      <td>43537</td>\n",
       "    </tr>\n",
       "    <tr>\n",
       "      <th>4</th>\n",
       "      <td>5</td>\n",
       "      <td>33</td>\n",
       "      <td>F</td>\n",
       "      <td>other</td>\n",
       "      <td>15213</td>\n",
       "    </tr>\n",
       "  </tbody>\n",
       "</table>\n",
       "</div>"
      ],
      "text/plain": [
       "   UserID  Age Sex  Occupation ZIPCode\n",
       "0       1   24   M  technician   85711\n",
       "1       2   53   F       other   94043\n",
       "2       3   23   M      writer   32067\n",
       "3       4   24   M  technician   43537\n",
       "4       5   33   F       other   15213"
      ]
     },
     "execution_count": 647,
     "metadata": {},
     "output_type": "execute_result"
    }
   ],
   "source": [
    "users.head()"
   ]
  },
  {
   "cell_type": "markdown",
   "metadata": {},
   "source": [
    "The user data contains the age, sex, occupation, and ZIP Code for each of the 943 participants. There are a total of 670 males and 273 females in the sample. Let's take a look at the distribution of user ages."
   ]
  },
  {
   "cell_type": "code",
   "execution_count": 648,
   "metadata": {},
   "outputs": [
    {
     "data": {
      "image/png": "[encoded data removed]",
      "text/plain": [
       "<Figure size 576x432 with 1 Axes>"
      ]
     },
     "metadata": {},
     "output_type": "display_data"
    }
   ],
   "source": [
    "ax = users['Age'].plot.hist(bins=30, figsize=(8,6))\n",
    "ax.set_xlabel('Age [years]')\n",
    "ax.set_ylabel('Number of People')\n",
    "\n",
    "ax = [mp.axvline(i, color='k', ls='--', lw=1) for i in\n",
    "         users['Age'].quantile([0.25,0.50,0.75]).values]"
   ]
  },
  {
   "cell_type": "markdown",
   "metadata": {},
   "source": [
    "The youngest participant in data was only seven years old, while the oldest was 73. Those users are pretty tech savvy considering their particular age brackets! The vertical black dashed lines denote the 1st and 3rd quartiles, along with the median value of the distribution. The majority of participants, were between 20 and 30 years old, though a significant portion of the population lays outside of this range.\n",
    "\n",
    "We can also take a look at the occupations of these individuals."
   ]
  },
  {
   "cell_type": "code",
   "execution_count": 649,
   "metadata": {},
   "outputs": [
    {
     "data": {
      "text/plain": [
       "Text(0,0.5,'Number of People')"
      ]
     },
     "execution_count": 649,
     "metadata": {},
     "output_type": "execute_result"
    },
    {
     "data": {
      "image/png": "[encoded data removed]",
      "text/plain": [
       "<Figure size 576x432 with 1 Axes>"
      ]
     },
     "metadata": {},
     "output_type": "display_data"
    }
   ],
   "source": [
    "xtab = pd.crosstab(users['Occupation'], users['Sex'])\n",
    "\n",
    "xtab['Total'] = xtab.sum(axis=1)\n",
    "\n",
    "ax = xtab.sort_values('Total', ascending=False)[['F','M']].plot.bar(stacked=True, width=0.9, figsize=(8,6))\n",
    "ax.set_xlabel('Occupation')\n",
    "ax.set_ylabel('Number of People')"
   ]
  },
  {
   "cell_type": "markdown",
   "metadata": {},
   "source": [
    "The most common occupation listed is *student*, comprising about 20% of all users. Of note is the unfortunate underrepresentation of females in certain fields like *engineer*, *programmer*, *executive*, and *scientist*.\n",
    "\n",
    "The ZIP Codes for each user are also listed, though they aren't of much use if we can't visualize their location. Let's use the open-source website OpenHeatMap.com to quickly plot them up."
   ]
  },
  {
   "cell_type": "markdown",
   "metadata": {},
   "source": [
    "<img src=\"https://github.com/degravek/notebooks/blob/master/images/heatmap.png?raw=true\" width=\"80%\">"
   ]
  },
  {
   "cell_type": "markdown",
   "metadata": {},
   "source": [
    "The map shows that user locations are concentrated heavily along the east and west coasts, though the zip-code with the most users is actually Minneapolis, Minnesota (ZIP Code 55414, with 9 individuals). A sizable fraction of users are also located in both the midwest and southeast regions of the country, while the west and southwest regions are pretty sparse. Though not shown here, there are also several users in both Alaska and Hawaii.\n",
    "\n",
    "Let's now take a look at the movie dataframe."
   ]
  },
  {
   "cell_type": "code",
   "execution_count": 650,
   "metadata": {},
   "outputs": [
    {
     "data": {
      "text/html": [
       "<div>\n",
       "<style scoped>\n",
       "    .dataframe tbody tr th:only-of-type {\n",
       "        vertical-align: middle;\n",
       "    }\n",
       "\n",
       "    .dataframe tbody tr th {\n",
       "        vertical-align: top;\n",
       "    }\n",
       "\n",
       "    .dataframe thead th {\n",
       "        text-align: right;\n",
       "    }\n",
       "</style>\n",
       "<table border=\"1\" class=\"dataframe\">\n",
       "  <thead>\n",
       "    <tr style=\"text-align: right;\">\n",
       "      <th></th>\n",
       "      <th>MovieID</th>\n",
       "      <th>MovieTitle</th>\n",
       "      <th>ReleaseDate</th>\n",
       "      <th>VideoReleaseDate</th>\n",
       "      <th>IMDbURL</th>\n",
       "      <th>Unknown</th>\n",
       "      <th>Action</th>\n",
       "      <th>Adventure</th>\n",
       "      <th>Animation</th>\n",
       "      <th>Childrens</th>\n",
       "      <th>...</th>\n",
       "      <th>Fantasy</th>\n",
       "      <th>FilmNoir</th>\n",
       "      <th>Horror</th>\n",
       "      <th>Musical</th>\n",
       "      <th>Mystery</th>\n",
       "      <th>Romance</th>\n",
       "      <th>SciFi</th>\n",
       "      <th>Thriller</th>\n",
       "      <th>War</th>\n",
       "      <th>Western</th>\n",
       "    </tr>\n",
       "  </thead>\n",
       "  <tbody>\n",
       "    <tr>\n",
       "      <th>0</th>\n",
       "      <td>1</td>\n",
       "      <td>Toy Story (1995)</td>\n",
       "      <td>01-Jan-1995</td>\n",
       "      <td>NaN</td>\n",
       "      <td>http://us.imdb.com/M/title-exact?Toy%20Story%2...</td>\n",
       "      <td>0</td>\n",
       "      <td>0</td>\n",
       "      <td>0</td>\n",
       "      <td>1</td>\n",
       "      <td>1</td>\n",
       "      <td>...</td>\n",
       "      <td>0</td>\n",
       "      <td>0</td>\n",
       "      <td>0</td>\n",
       "      <td>0</td>\n",
       "      <td>0</td>\n",
       "      <td>0</td>\n",
       "      <td>0</td>\n",
       "      <td>0</td>\n",
       "      <td>0</td>\n",
       "      <td>0</td>\n",
       "    </tr>\n",
       "    <tr>\n",
       "      <th>1</th>\n",
       "      <td>2</td>\n",
       "      <td>GoldenEye (1995)</td>\n",
       "      <td>01-Jan-1995</td>\n",
       "      <td>NaN</td>\n",
       "      <td>http://us.imdb.com/M/title-exact?GoldenEye%20(...</td>\n",
       "      <td>0</td>\n",
       "      <td>1</td>\n",
       "      <td>1</td>\n",
       "      <td>0</td>\n",
       "      <td>0</td>\n",
       "      <td>...</td>\n",
       "      <td>0</td>\n",
       "      <td>0</td>\n",
       "      <td>0</td>\n",
       "      <td>0</td>\n",
       "      <td>0</td>\n",
       "      <td>0</td>\n",
       "      <td>0</td>\n",
       "      <td>1</td>\n",
       "      <td>0</td>\n",
       "      <td>0</td>\n",
       "    </tr>\n",
       "    <tr>\n",
       "      <th>2</th>\n",
       "      <td>3</td>\n",
       "      <td>Four Rooms (1995)</td>\n",
       "      <td>01-Jan-1995</td>\n",
       "      <td>NaN</td>\n",
       "      <td>http://us.imdb.com/M/title-exact?Four%20Rooms%...</td>\n",
       "      <td>0</td>\n",
       "      <td>0</td>\n",
       "      <td>0</td>\n",
       "      <td>0</td>\n",
       "      <td>0</td>\n",
       "      <td>...</td>\n",
       "      <td>0</td>\n",
       "      <td>0</td>\n",
       "      <td>0</td>\n",
       "      <td>0</td>\n",
       "      <td>0</td>\n",
       "      <td>0</td>\n",
       "      <td>0</td>\n",
       "      <td>1</td>\n",
       "      <td>0</td>\n",
       "      <td>0</td>\n",
       "    </tr>\n",
       "    <tr>\n",
       "      <th>3</th>\n",
       "      <td>4</td>\n",
       "      <td>Get Shorty (1995)</td>\n",
       "      <td>01-Jan-1995</td>\n",
       "      <td>NaN</td>\n",
       "      <td>http://us.imdb.com/M/title-exact?Get%20Shorty%...</td>\n",
       "      <td>0</td>\n",
       "      <td>1</td>\n",
       "      <td>0</td>\n",
       "      <td>0</td>\n",
       "      <td>0</td>\n",
       "      <td>...</td>\n",
       "      <td>0</td>\n",
       "      <td>0</td>\n",
       "      <td>0</td>\n",
       "      <td>0</td>\n",
       "      <td>0</td>\n",
       "      <td>0</td>\n",
       "      <td>0</td>\n",
       "      <td>0</td>\n",
       "      <td>0</td>\n",
       "      <td>0</td>\n",
       "    </tr>\n",
       "    <tr>\n",
       "      <th>4</th>\n",
       "      <td>5</td>\n",
       "      <td>Copycat (1995)</td>\n",
       "      <td>01-Jan-1995</td>\n",
       "      <td>NaN</td>\n",
       "      <td>http://us.imdb.com/M/title-exact?Copycat%20(1995)</td>\n",
       "      <td>0</td>\n",
       "      <td>0</td>\n",
       "      <td>0</td>\n",
       "      <td>0</td>\n",
       "      <td>0</td>\n",
       "      <td>...</td>\n",
       "      <td>0</td>\n",
       "      <td>0</td>\n",
       "      <td>0</td>\n",
       "      <td>0</td>\n",
       "      <td>0</td>\n",
       "      <td>0</td>\n",
       "      <td>0</td>\n",
       "      <td>1</td>\n",
       "      <td>0</td>\n",
       "      <td>0</td>\n",
       "    </tr>\n",
       "  </tbody>\n",
       "</table>\n",
       "<p>5 rows × 24 columns</p>\n",
       "</div>"
      ],
      "text/plain": [
       "   MovieID         MovieTitle  ReleaseDate  VideoReleaseDate  \\\n",
       "0        1   Toy Story (1995)  01-Jan-1995               NaN   \n",
       "1        2   GoldenEye (1995)  01-Jan-1995               NaN   \n",
       "2        3  Four Rooms (1995)  01-Jan-1995               NaN   \n",
       "3        4  Get Shorty (1995)  01-Jan-1995               NaN   \n",
       "4        5     Copycat (1995)  01-Jan-1995               NaN   \n",
       "\n",
       "                                             IMDbURL  Unknown  Action  \\\n",
       "0  http://us.imdb.com/M/title-exact?Toy%20Story%2...        0       0   \n",
       "1  http://us.imdb.com/M/title-exact?GoldenEye%20(...        0       1   \n",
       "2  http://us.imdb.com/M/title-exact?Four%20Rooms%...        0       0   \n",
       "3  http://us.imdb.com/M/title-exact?Get%20Shorty%...        0       1   \n",
       "4  http://us.imdb.com/M/title-exact?Copycat%20(1995)        0       0   \n",
       "\n",
       "   Adventure  Animation  Childrens   ...     Fantasy  FilmNoir  Horror  \\\n",
       "0          0          1          1   ...           0         0       0   \n",
       "1          1          0          0   ...           0         0       0   \n",
       "2          0          0          0   ...           0         0       0   \n",
       "3          0          0          0   ...           0         0       0   \n",
       "4          0          0          0   ...           0         0       0   \n",
       "\n",
       "   Musical  Mystery  Romance  SciFi  Thriller  War  Western  \n",
       "0        0        0        0      0         0    0        0  \n",
       "1        0        0        0      0         1    0        0  \n",
       "2        0        0        0      0         1    0        0  \n",
       "3        0        0        0      0         0    0        0  \n",
       "4        0        0        0      0         1    0        0  \n",
       "\n",
       "[5 rows x 24 columns]"
      ]
     },
     "execution_count": 650,
     "metadata": {},
     "output_type": "execute_result"
    }
   ],
   "source": [
    "movies.head()"
   ]
  },
  {
   "cell_type": "markdown",
   "metadata": {},
   "source": [
    "The dataframe contains information regarding the title, release date, and genre of each movie in the dataset. Let's take a quick look at the different movie genres."
   ]
  },
  {
   "cell_type": "code",
   "execution_count": 651,
   "metadata": {},
   "outputs": [
    {
     "data": {
      "text/plain": [
       "Text(0,0.5,'Number of Movies')"
      ]
     },
     "execution_count": 651,
     "metadata": {},
     "output_type": "execute_result"
    },
    {
     "data": {
      "image/png": "[encoded data removed]",
      "text/plain": [
       "<Figure size 576x432 with 1 Axes>"
      ]
     },
     "metadata": {},
     "output_type": "display_data"
    }
   ],
   "source": [
    "ax = movies.iloc[:,6:-1].sum(axis=0).sort_values(ascending=False).plot.bar(width=0.9, figsize=(8,6))\n",
    "ax.set_xlabel('Genre')\n",
    "ax.set_ylabel('Number of Movies')"
   ]
  },
  {
   "cell_type": "markdown",
   "metadata": {},
   "source": [
    "The five most common genre tags for the various movies in order are drama, comedy, action, thriller, and romance. Several of the lesser-used tags seem to be more in the line of \"sub-genres\" like \"crime\", \"fantasy\", and \"war\".\n",
    "\n",
    "Let's now examine the dataframe containing the movie ratings."
   ]
  },
  {
   "cell_type": "code",
   "execution_count": 600,
   "metadata": {},
   "outputs": [
    {
     "data": {
      "text/html": [
       "<div>\n",
       "<style scoped>\n",
       "    .dataframe tbody tr th:only-of-type {\n",
       "        vertical-align: middle;\n",
       "    }\n",
       "\n",
       "    .dataframe tbody tr th {\n",
       "        vertical-align: top;\n",
       "    }\n",
       "\n",
       "    .dataframe thead th {\n",
       "        text-align: right;\n",
       "    }\n",
       "</style>\n",
       "<table border=\"1\" class=\"dataframe\">\n",
       "  <thead>\n",
       "    <tr style=\"text-align: right;\">\n",
       "      <th></th>\n",
       "      <th>UserID</th>\n",
       "      <th>MovieID</th>\n",
       "      <th>Rating</th>\n",
       "      <th>Timestamp</th>\n",
       "    </tr>\n",
       "  </thead>\n",
       "  <tbody>\n",
       "    <tr>\n",
       "      <th>0</th>\n",
       "      <td>196</td>\n",
       "      <td>242</td>\n",
       "      <td>3</td>\n",
       "      <td>881250949</td>\n",
       "    </tr>\n",
       "    <tr>\n",
       "      <th>1</th>\n",
       "      <td>186</td>\n",
       "      <td>302</td>\n",
       "      <td>3</td>\n",
       "      <td>891717742</td>\n",
       "    </tr>\n",
       "    <tr>\n",
       "      <th>2</th>\n",
       "      <td>22</td>\n",
       "      <td>377</td>\n",
       "      <td>1</td>\n",
       "      <td>878887116</td>\n",
       "    </tr>\n",
       "    <tr>\n",
       "      <th>3</th>\n",
       "      <td>244</td>\n",
       "      <td>51</td>\n",
       "      <td>2</td>\n",
       "      <td>880606923</td>\n",
       "    </tr>\n",
       "    <tr>\n",
       "      <th>4</th>\n",
       "      <td>166</td>\n",
       "      <td>346</td>\n",
       "      <td>1</td>\n",
       "      <td>886397596</td>\n",
       "    </tr>\n",
       "  </tbody>\n",
       "</table>\n",
       "</div>"
      ],
      "text/plain": [
       "   UserID  MovieID  Rating  Timestamp\n",
       "0     196      242       3  881250949\n",
       "1     186      302       3  891717742\n",
       "2      22      377       1  878887116\n",
       "3     244       51       2  880606923\n",
       "4     166      346       1  886397596"
      ]
     },
     "execution_count": 600,
     "metadata": {},
     "output_type": "execute_result"
    }
   ],
   "source": [
    "ratings.head()"
   ]
  },
  {
   "cell_type": "markdown",
   "metadata": {},
   "source": [
    "The dataframe contains information regarding the rataing for each movie, a numerical value specifying the movie ID, and the ID of each user doing the rating.\n",
    "\n",
    "Let's check out the ten most-rated movies in our list. To do this, we can use the Pandas *merge* command to join the ratings dataframe to the movie dataframe on the *MovieID* column. This will combine the two dataframes so that the correct movie titles are lined up with the correct movie ID numbers, ratings, etc."
   ]
  },
  {
   "cell_type": "code",
   "execution_count": 652,
   "metadata": {},
   "outputs": [],
   "source": [
    "df = ratings.merge(movies, on='MovieID').merge(users, on='UserID')"
   ]
  },
  {
   "cell_type": "markdown",
   "metadata": {},
   "source": [
    "We can now sort the new dataframe by the number of times each movie title appears."
   ]
  },
  {
   "cell_type": "code",
   "execution_count": 653,
   "metadata": {},
   "outputs": [
    {
     "data": {
      "text/plain": [
       "Text(0,0.5,'')"
      ]
     },
     "execution_count": 653,
     "metadata": {},
     "output_type": "execute_result"
    },
    {
     "data": {
      "image/png": "[encoded data removed]",
      "text/plain": [
       "<Figure size 576x432 with 1 Axes>"
      ]
     },
     "metadata": {},
     "output_type": "display_data"
    }
   ],
   "source": [
    "df['MovieTitle'].value_counts()[:10].plot.barh(width=0.9, figsize=(8,6))\n",
    "mp.xlabel('Number of Ratings')\n",
    "mp.ylabel('')"
   ]
  },
  {
   "cell_type": "markdown",
   "metadata": {},
   "source": [
    "No surprise that a movie like Star Wars would top the list! Contact, Scream, and Independence Day are some of my favorite movies as well. I'm a little surprised that Fargo and The English Patient made the list, though. I've never heard people talk about them much, but I might have to check them out!\n",
    "\n",
    "Let's now look at the ten most highly rated movies. There are a couple of ways we can do this. The first way is to simply sort all films by their average rating and take the first ten that are listed. However, there is a potential problem with this method - several films have been given a perfect score of 5, but have been rated only once or twice. Surely a film with a slightly lower rating but having several hundred votes is more trustworthy than one with a single vote. We therefore need a way to weight the ratings by the number of votes the film has received. To overcome this problem, we can use a Bayesian weighted estimate similar to what IMDb uses for its top 250 list. The Bayesian estimate, $BE$, is given as\n",
    "\n",
    "$$BE = \\frac{v}{v+m}R + \\frac{m}{v+m}C,$$\n",
    "\n",
    "where\n",
    "\n",
    "* $R$ = The mean rating from everyone who has seen a particular movie.\n",
    "* $v$ = The number of times a particular movie has been rated.\n",
    "* $m$ = The minimum number of votes required to be in the top ten.\n",
    "* $C$ = The mean rating of all films in the entire movie list.\n",
    "\n",
    "We'll use a value of m = 100 so that a movie must have at least 100 votes to make the list. Let's see what we get!"
   ]
  },
  {
   "cell_type": "code",
   "execution_count": 663,
   "metadata": {},
   "outputs": [],
   "source": [
    "def BayesianRating(inp, v):\n",
    "    top_movies = pd.DataFrame()\n",
    "    top_movies['MeanRating'] = inp.groupby('MovieTitle')['Rating'].mean()\n",
    "    top_movies['NumRatings'] = inp.groupby('MovieTitle')['Rating'].count()\n",
    "\n",
    "    fullrating = df['Rating'].mean()\n",
    "\n",
    "    top_movies['Score'] = top_movies['MeanRating']*top_movies['NumRatings']/ \\\n",
    "                          (top_movies['NumRatings'] + v) + \\\n",
    "                          fullrating*v/(top_movies['NumRatings'] + v)\n",
    "\n",
    "    top_movies.sort_values('Score', ascending=False, inplace=True)\n",
    "    return top_movies"
   ]
  },
  {
   "cell_type": "code",
   "execution_count": 664,
   "metadata": {},
   "outputs": [],
   "source": [
    "top_movies = BayesianRating(df, 100)"
   ]
  },
  {
   "cell_type": "markdown",
   "metadata": {},
   "source": [
    "Let's check out this new dataframe."
   ]
  },
  {
   "cell_type": "code",
   "execution_count": 665,
   "metadata": {},
   "outputs": [
    {
     "data": {
      "text/html": [
       "<div>\n",
       "<style scoped>\n",
       "    .dataframe tbody tr th:only-of-type {\n",
       "        vertical-align: middle;\n",
       "    }\n",
       "\n",
       "    .dataframe tbody tr th {\n",
       "        vertical-align: top;\n",
       "    }\n",
       "\n",
       "    .dataframe thead th {\n",
       "        text-align: right;\n",
       "    }\n",
       "</style>\n",
       "<table border=\"1\" class=\"dataframe\">\n",
       "  <thead>\n",
       "    <tr style=\"text-align: right;\">\n",
       "      <th></th>\n",
       "      <th>MeanRating</th>\n",
       "      <th>NumRatings</th>\n",
       "      <th>Score</th>\n",
       "    </tr>\n",
       "    <tr>\n",
       "      <th>MovieTitle</th>\n",
       "      <th></th>\n",
       "      <th></th>\n",
       "      <th></th>\n",
       "    </tr>\n",
       "  </thead>\n",
       "  <tbody>\n",
       "    <tr>\n",
       "      <th>Star Wars (1977)</th>\n",
       "      <td>4.358491</td>\n",
       "      <td>583</td>\n",
       "      <td>4.237168</td>\n",
       "    </tr>\n",
       "    <tr>\n",
       "      <th>Schindler's List (1993)</th>\n",
       "      <td>4.466443</td>\n",
       "      <td>298</td>\n",
       "      <td>4.231121</td>\n",
       "    </tr>\n",
       "    <tr>\n",
       "      <th>Shawshank Redemption, The (1994)</th>\n",
       "      <td>4.445230</td>\n",
       "      <td>283</td>\n",
       "      <td>4.206230</td>\n",
       "    </tr>\n",
       "    <tr>\n",
       "      <th>Casablanca (1942)</th>\n",
       "      <td>4.456790</td>\n",
       "      <td>243</td>\n",
       "      <td>4.186548</td>\n",
       "    </tr>\n",
       "    <tr>\n",
       "      <th>Usual Suspects, The (1995)</th>\n",
       "      <td>4.385768</td>\n",
       "      <td>267</td>\n",
       "      <td>4.152550</td>\n",
       "    </tr>\n",
       "    <tr>\n",
       "      <th>Godfather, The (1972)</th>\n",
       "      <td>4.283293</td>\n",
       "      <td>413</td>\n",
       "      <td>4.136425</td>\n",
       "    </tr>\n",
       "    <tr>\n",
       "      <th>Silence of the Lambs, The (1991)</th>\n",
       "      <td>4.289744</td>\n",
       "      <td>390</td>\n",
       "      <td>4.134665</td>\n",
       "    </tr>\n",
       "    <tr>\n",
       "      <th>Raiders of the Lost Ark (1981)</th>\n",
       "      <td>4.252381</td>\n",
       "      <td>420</td>\n",
       "      <td>4.113435</td>\n",
       "    </tr>\n",
       "    <tr>\n",
       "      <th>Rear Window (1954)</th>\n",
       "      <td>4.387560</td>\n",
       "      <td>209</td>\n",
       "      <td>4.109987</td>\n",
       "    </tr>\n",
       "    <tr>\n",
       "      <th>Titanic (1997)</th>\n",
       "      <td>4.245714</td>\n",
       "      <td>350</td>\n",
       "      <td>4.086636</td>\n",
       "    </tr>\n",
       "  </tbody>\n",
       "</table>\n",
       "</div>"
      ],
      "text/plain": [
       "                                  MeanRating  NumRatings     Score\n",
       "MovieTitle                                                        \n",
       "Star Wars (1977)                    4.358491         583  4.237168\n",
       "Schindler's List (1993)             4.466443         298  4.231121\n",
       "Shawshank Redemption, The (1994)    4.445230         283  4.206230\n",
       "Casablanca (1942)                   4.456790         243  4.186548\n",
       "Usual Suspects, The (1995)          4.385768         267  4.152550\n",
       "Godfather, The (1972)               4.283293         413  4.136425\n",
       "Silence of the Lambs, The (1991)    4.289744         390  4.134665\n",
       "Raiders of the Lost Ark (1981)      4.252381         420  4.113435\n",
       "Rear Window (1954)                  4.387560         209  4.109987\n",
       "Titanic (1997)                      4.245714         350  4.086636"
      ]
     },
     "execution_count": 665,
     "metadata": {},
     "output_type": "execute_result"
    }
   ],
   "source": [
    "top_movies.head(10)"
   ]
  },
  {
   "cell_type": "markdown",
   "metadata": {},
   "source": [
    "We can now sort this listing by the newly-computed Bayesian estimate score and plot the results."
   ]
  },
  {
   "cell_type": "code",
   "execution_count": 667,
   "metadata": {},
   "outputs": [
    {
     "data": {
      "text/plain": [
       "Text(0,0.5,'')"
      ]
     },
     "execution_count": 667,
     "metadata": {},
     "output_type": "execute_result"
    },
    {
     "data": {
      "image/png": "[encoded data removed]",
      "text/plain": [
       "<Figure size 576x432 with 1 Axes>"
      ]
     },
     "metadata": {},
     "output_type": "display_data"
    }
   ],
   "source": [
    "ax = top_movies['Score'][:10].plot.barh(width=0.9, figsize=(8,6))\n",
    "ax.set_xlabel('Score')\n",
    "ax.set_ylabel('')"
   ]
  },
  {
   "cell_type": "markdown",
   "metadata": {},
   "source": [
    "As expected, some very popular movies make the list! The one I'm surprised about, though, is the film \"Rear Window\". A quick Google search shows that this film has a rating of 8.5/10 on IMDb and a 100% on Rotten Tomatoes, so the fact that this movie shows up here does make sense. One will note that Raiders of the Lost Ark shows up with a higher score than Rear Window, even though Rear Window's mean rating across all users is higher. This is due to the fact that it is rated much less frequently than Raiders of the Lost Ark. Our Bayesian estimate seems to work!\n",
    "\n",
    "We can merge the new, large dataframe with the user dataframe on the UserID column. This will allow us to see separately what males and females are watching. We group the dataframe by sex, and computed the weighted rating for movies with more than 50 reviews.\n",
    "\n",
    "Let's look at the most highly rated movies."
   ]
  },
  {
   "cell_type": "code",
   "execution_count": 671,
   "metadata": {},
   "outputs": [],
   "source": [
    "movies_F = tmp.groupby('Sex').get_group('F')\n",
    "movies_F_top = BayesianRating(movies_F, 50)\n",
    "\n",
    "movies_M = tmp.groupby('Sex').get_group('M')\n",
    "movies_M_top = BayesianRating(movies_M, 50)"
   ]
  },
  {
   "cell_type": "code",
   "execution_count": 672,
   "metadata": {},
   "outputs": [
    {
     "data": {
      "text/plain": [
       "(0, 5)"
      ]
     },
     "execution_count": 672,
     "metadata": {},
     "output_type": "execute_result"
    },
    {
     "data": {
      "image/png": "[encoded data removed]",
      "text/plain": [
       "<Figure size 1152x432 with 2 Axes>"
      ]
     },
     "metadata": {},
     "output_type": "display_data"
    }
   ],
   "source": [
    "fig, axes = mp.subplots(nrows=1, ncols=2, figsize=(16,6))\n",
    "\n",
    "ax = movies_F_top['Score'][:10].plot.bar(width=0.9, ax=axes[0])\n",
    "ax.set_ylabel('Score')\n",
    "ax.set_xlabel('')\n",
    "ax.set_ylim(0,5)\n",
    "\n",
    "ax = movies_M_top['Score'][:10].plot.bar(width=0.9, ax=axes[1])\n",
    "ax.set_ylabel('Score')\n",
    "ax.set_xlabel('')\n",
    "ax.set_ylim(0,5)"
   ]
  },
  {
   "cell_type": "markdown",
   "metadata": {},
   "source": [
    "I'm a little surprised that there are many similarities between the two lists! Notably, movies like Star Wars, Shawshank Redemption, and Schindler's list seem to be universally liked between the sexes.\n",
    "\n",
    "Lastly, let's take a quick look at movies by release date. The release dates are strings in the format 01-Jan-1995. We can split these strings on the dashes and isolate the year."
   ]
  },
  {
   "cell_type": "code",
   "execution_count": 674,
   "metadata": {},
   "outputs": [
    {
     "data": {
      "text/plain": [
       "Text(0,0.5,'Number of Movies')"
      ]
     },
     "execution_count": 674,
     "metadata": {},
     "output_type": "execute_result"
    },
    {
     "data": {
      "image/png": "[encoded data removed]",
      "text/plain": [
       "<Figure size 576x432 with 1 Axes>"
      ]
     },
     "metadata": {},
     "output_type": "display_data"
    }
   ],
   "source": [
    "movies['Year'] = movies['ReleaseDate'].apply(lambda x: x.split('-')[-1] if type(x) == str else 0)\n",
    "\n",
    "ax = movies.groupby('Year')['MovieTitle'].count().reset_index().plot(figsize=(8,6))\n",
    "ax.set_xlabel('Release Year')\n",
    "ax.set_ylabel('Number of Movies')"
   ]
  },
  {
   "cell_type": "markdown",
   "metadata": {},
   "source": [
    "The movies span many decades. The earliest film was released in 1922, while the most recent was released in 1998. There are more than 10 times more movies produced in the 1990's than at any other decade represented in the dataset. It is not clear if this is simply due to the fact that more films were produced during that time, or if there is simply an underrepresentation of very old films in this dataset. Probably a combination of both.\n",
    "\n",
    "# A Simple Movie Recommender System\n",
    "\n",
    "Okay, let's set up the movie recommender system! The system we will set up uses a technique called collaborative filtering. A collaborative filtering algorithm makes movie recommendations to a new user based on what films other similar individuals have liked in the past. There are several ways we can identify those users with similar tastes. Perhaps the simplest way is to employ a kind of k-nearest neighbors approach. With this method, we could compute a Euclidean distance between the rating values given by a new user and all other users in the dataset who have watched the same movies. For example, let's suppose a new user has seen the movies Toy Story, Independence Day, and Contact, and has rated them 4, 3, and 2 stars out of 5 respectively. Let's also suppose another user has seen those same movies, and has rated them 5, 2, and 4 stars out of 5 respectively. The Euclidean distance between the two users is then computed as\n",
    "\n",
    "$$d = \\sqrt{(4-5)^2 + (3-2)^2 + (2-4)^2} = 2.45.$$\n",
    "\n",
    "The smaller the distance value, the greater the similarity.\n",
    "\n",
    "We can see in the example above that the smallest value this similarity index can take is zero. A value of zero means that the ratings given by the two users are identical. We can also define a second useful index called the cosine similarity. Cosine similarity lends its name to computing the cosine of the angle between two vectors. Mathematically, this is written as\n",
    "\n",
    "$$\\mathrm{cosine\\,\\,similarity} = \\cos(\\theta) = \\frac{\\sum_i^n A_i\\,B_i}{\\sqrt{\\sum_i^n A_i^2} \\sqrt{\\sum_i^n B_i^2}},$$\n",
    "\n",
    "where $\\theta$ is the angle between vectors $A$ and $B$, and the subscript represents their $i^\\mathrm{th}$ element. For our purposes, $A$ is the vector of movie ratings given by some new user (the user we're trying to recommend movies to), and $B$ represents the individual vectors of movie ratings given by each user in the MovieLens dataset.\n",
    "\n",
    "In this scheme, two users that have liked and disliked exactly the same movies are given a cosine similarity value of 1 (i.e., there is no angle between their vectors), while two perfectly dissimilar users (where one user has liked all movies that the other disliked, and vice versa) are given a value of -1 (i.e., the angle between their vectors is 180 degrees).\n",
    "\n",
    "Let's get started by first defining a function to calculate the Euclidean and cosine similarities between users. The function, called *similarity*, takes in a movie rating vector from some new user and computes the similarity between it and every user in the MovieLens dataset. This is done only if the two individuals have ten movies in common between them. It then returns the similarity values as a dataframe."
   ]
  },
  {
   "cell_type": "code",
   "execution_count": 685,
   "metadata": {},
   "outputs": [],
   "source": [
    "from sklearn.metrics import pairwise_distances\n",
    "\n",
    "def similarity(inp, movie_matrix, scorer):\n",
    "\n",
    "    n, m = [], []\n",
    "    for i in movie_matrix.columns:\n",
    "        if i != inp:\n",
    "            sub_movie_matrix = movie_matrix[[inp, i]].dropna()\n",
    "\n",
    "            if len(sub_movie_matrix) >= 10:\n",
    "                a = sub_movie_matrix[i].values.reshape(1,-1)\n",
    "                b = sub_movie_matrix[inp].values.reshape(1,-1)\n",
    "\n",
    "                if scorer == 'cosine':\n",
    "                    score = cosine_similarity(a, b)[0][0]\n",
    "                elif scorer == 'euclidean':\n",
    "                    score = np.sqrt(np.sum((a-b)**2))\n",
    "                n.append(i)\n",
    "                m.append(score)\n",
    "    return pd.DataFrame({'UserID': n, 'Similarity': m})"
   ]
  },
  {
   "cell_type": "markdown",
   "metadata": {},
   "source": [
    "Next, we define a new dataframe called \"moviemat\" in which the index is composed of all movie titles, the column names are the user ID's of all reviewers, and the column values are the ratings.\n",
    "\n",
    "Ratings take on integer values of between 1 and 5. To take into account both the similarity *and* dissimilarity of users, we subtract off the mean (3.0) from each rating so that they take on values between -2 and +2. This ensures that ratings of 1 or 2 are given by users that have \"disliked\" a movie to varying degrees (after subtraction, these now take on values of -2 and -1 respectively), while ratings of 4 or 5 are given by users that have \"liked\" a movie to varying degrees (after subtraction, these now take on values of 1 and 2 respectively). Under this definition, users that have given a movie a rating of 3 stars have neither liked nor disliked the film."
   ]
  },
  {
   "cell_type": "code",
   "execution_count": 686,
   "metadata": {},
   "outputs": [],
   "source": [
    "movie_matrix = pd.pivot_table(data=df, index='MovieTitle', columns='UserID', values='Rating')\n",
    "\n",
    "movie_matrix = movie_matrix - 3.0"
   ]
  },
  {
   "cell_type": "markdown",
   "metadata": {},
   "source": [
    "Let's take a look at the moviemat dataframe."
   ]
  },
  {
   "cell_type": "code",
   "execution_count": 687,
   "metadata": {},
   "outputs": [
    {
     "data": {
      "text/html": [
       "<div>\n",
       "<style scoped>\n",
       "    .dataframe tbody tr th:only-of-type {\n",
       "        vertical-align: middle;\n",
       "    }\n",
       "\n",
       "    .dataframe tbody tr th {\n",
       "        vertical-align: top;\n",
       "    }\n",
       "\n",
       "    .dataframe thead th {\n",
       "        text-align: right;\n",
       "    }\n",
       "</style>\n",
       "<table border=\"1\" class=\"dataframe\">\n",
       "  <thead>\n",
       "    <tr style=\"text-align: right;\">\n",
       "      <th>UserID</th>\n",
       "      <th>1</th>\n",
       "      <th>2</th>\n",
       "      <th>3</th>\n",
       "      <th>4</th>\n",
       "      <th>5</th>\n",
       "      <th>6</th>\n",
       "      <th>7</th>\n",
       "      <th>8</th>\n",
       "      <th>9</th>\n",
       "      <th>10</th>\n",
       "      <th>...</th>\n",
       "      <th>934</th>\n",
       "      <th>935</th>\n",
       "      <th>936</th>\n",
       "      <th>937</th>\n",
       "      <th>938</th>\n",
       "      <th>939</th>\n",
       "      <th>940</th>\n",
       "      <th>941</th>\n",
       "      <th>942</th>\n",
       "      <th>943</th>\n",
       "    </tr>\n",
       "    <tr>\n",
       "      <th>MovieTitle</th>\n",
       "      <th></th>\n",
       "      <th></th>\n",
       "      <th></th>\n",
       "      <th></th>\n",
       "      <th></th>\n",
       "      <th></th>\n",
       "      <th></th>\n",
       "      <th></th>\n",
       "      <th></th>\n",
       "      <th></th>\n",
       "      <th></th>\n",
       "      <th></th>\n",
       "      <th></th>\n",
       "      <th></th>\n",
       "      <th></th>\n",
       "      <th></th>\n",
       "      <th></th>\n",
       "      <th></th>\n",
       "      <th></th>\n",
       "      <th></th>\n",
       "      <th></th>\n",
       "    </tr>\n",
       "  </thead>\n",
       "  <tbody>\n",
       "    <tr>\n",
       "      <th>'Til There Was You (1997)</th>\n",
       "      <td>NaN</td>\n",
       "      <td>NaN</td>\n",
       "      <td>NaN</td>\n",
       "      <td>NaN</td>\n",
       "      <td>NaN</td>\n",
       "      <td>NaN</td>\n",
       "      <td>NaN</td>\n",
       "      <td>NaN</td>\n",
       "      <td>NaN</td>\n",
       "      <td>NaN</td>\n",
       "      <td>...</td>\n",
       "      <td>NaN</td>\n",
       "      <td>NaN</td>\n",
       "      <td>NaN</td>\n",
       "      <td>NaN</td>\n",
       "      <td>NaN</td>\n",
       "      <td>NaN</td>\n",
       "      <td>NaN</td>\n",
       "      <td>NaN</td>\n",
       "      <td>NaN</td>\n",
       "      <td>NaN</td>\n",
       "    </tr>\n",
       "    <tr>\n",
       "      <th>1-900 (1994)</th>\n",
       "      <td>NaN</td>\n",
       "      <td>NaN</td>\n",
       "      <td>NaN</td>\n",
       "      <td>NaN</td>\n",
       "      <td>NaN</td>\n",
       "      <td>NaN</td>\n",
       "      <td>NaN</td>\n",
       "      <td>NaN</td>\n",
       "      <td>NaN</td>\n",
       "      <td>NaN</td>\n",
       "      <td>...</td>\n",
       "      <td>NaN</td>\n",
       "      <td>NaN</td>\n",
       "      <td>NaN</td>\n",
       "      <td>NaN</td>\n",
       "      <td>NaN</td>\n",
       "      <td>NaN</td>\n",
       "      <td>NaN</td>\n",
       "      <td>NaN</td>\n",
       "      <td>NaN</td>\n",
       "      <td>NaN</td>\n",
       "    </tr>\n",
       "    <tr>\n",
       "      <th>101 Dalmatians (1996)</th>\n",
       "      <td>-1.0</td>\n",
       "      <td>NaN</td>\n",
       "      <td>NaN</td>\n",
       "      <td>NaN</td>\n",
       "      <td>-1.0</td>\n",
       "      <td>NaN</td>\n",
       "      <td>NaN</td>\n",
       "      <td>NaN</td>\n",
       "      <td>NaN</td>\n",
       "      <td>NaN</td>\n",
       "      <td>...</td>\n",
       "      <td>-1.0</td>\n",
       "      <td>NaN</td>\n",
       "      <td>NaN</td>\n",
       "      <td>-1.0</td>\n",
       "      <td>1.0</td>\n",
       "      <td>NaN</td>\n",
       "      <td>NaN</td>\n",
       "      <td>NaN</td>\n",
       "      <td>NaN</td>\n",
       "      <td>NaN</td>\n",
       "    </tr>\n",
       "    <tr>\n",
       "      <th>12 Angry Men (1957)</th>\n",
       "      <td>2.0</td>\n",
       "      <td>NaN</td>\n",
       "      <td>NaN</td>\n",
       "      <td>NaN</td>\n",
       "      <td>NaN</td>\n",
       "      <td>1.0</td>\n",
       "      <td>1.0</td>\n",
       "      <td>NaN</td>\n",
       "      <td>NaN</td>\n",
       "      <td>2.0</td>\n",
       "      <td>...</td>\n",
       "      <td>NaN</td>\n",
       "      <td>NaN</td>\n",
       "      <td>NaN</td>\n",
       "      <td>NaN</td>\n",
       "      <td>NaN</td>\n",
       "      <td>NaN</td>\n",
       "      <td>NaN</td>\n",
       "      <td>NaN</td>\n",
       "      <td>NaN</td>\n",
       "      <td>NaN</td>\n",
       "    </tr>\n",
       "    <tr>\n",
       "      <th>187 (1997)</th>\n",
       "      <td>NaN</td>\n",
       "      <td>NaN</td>\n",
       "      <td>-1.0</td>\n",
       "      <td>NaN</td>\n",
       "      <td>NaN</td>\n",
       "      <td>NaN</td>\n",
       "      <td>NaN</td>\n",
       "      <td>NaN</td>\n",
       "      <td>NaN</td>\n",
       "      <td>NaN</td>\n",
       "      <td>...</td>\n",
       "      <td>NaN</td>\n",
       "      <td>NaN</td>\n",
       "      <td>NaN</td>\n",
       "      <td>NaN</td>\n",
       "      <td>NaN</td>\n",
       "      <td>NaN</td>\n",
       "      <td>NaN</td>\n",
       "      <td>NaN</td>\n",
       "      <td>NaN</td>\n",
       "      <td>NaN</td>\n",
       "    </tr>\n",
       "  </tbody>\n",
       "</table>\n",
       "<p>5 rows × 943 columns</p>\n",
       "</div>"
      ],
      "text/plain": [
       "UserID                     1    2    3    4    5    6    7    8    9    10   \\\n",
       "MovieTitle                                                                    \n",
       "'Til There Was You (1997)  NaN  NaN  NaN  NaN  NaN  NaN  NaN  NaN  NaN  NaN   \n",
       "1-900 (1994)               NaN  NaN  NaN  NaN  NaN  NaN  NaN  NaN  NaN  NaN   \n",
       "101 Dalmatians (1996)     -1.0  NaN  NaN  NaN -1.0  NaN  NaN  NaN  NaN  NaN   \n",
       "12 Angry Men (1957)        2.0  NaN  NaN  NaN  NaN  1.0  1.0  NaN  NaN  2.0   \n",
       "187 (1997)                 NaN  NaN -1.0  NaN  NaN  NaN  NaN  NaN  NaN  NaN   \n",
       "\n",
       "UserID                    ...   934  935  936  937  938  939  940  941  942  \\\n",
       "MovieTitle                ...                                                 \n",
       "'Til There Was You (1997) ...   NaN  NaN  NaN  NaN  NaN  NaN  NaN  NaN  NaN   \n",
       "1-900 (1994)              ...   NaN  NaN  NaN  NaN  NaN  NaN  NaN  NaN  NaN   \n",
       "101 Dalmatians (1996)     ...  -1.0  NaN  NaN -1.0  1.0  NaN  NaN  NaN  NaN   \n",
       "12 Angry Men (1957)       ...   NaN  NaN  NaN  NaN  NaN  NaN  NaN  NaN  NaN   \n",
       "187 (1997)                ...   NaN  NaN  NaN  NaN  NaN  NaN  NaN  NaN  NaN   \n",
       "\n",
       "UserID                     943  \n",
       "MovieTitle                      \n",
       "'Til There Was You (1997)  NaN  \n",
       "1-900 (1994)               NaN  \n",
       "101 Dalmatians (1996)      NaN  \n",
       "12 Angry Men (1957)        NaN  \n",
       "187 (1997)                 NaN  \n",
       "\n",
       "[5 rows x 943 columns]"
      ]
     },
     "execution_count": 687,
     "metadata": {},
     "output_type": "execute_result"
    }
   ],
   "source": [
    "movie_matrix.head()"
   ]
  },
  {
   "cell_type": "markdown",
   "metadata": {},
   "source": [
    "The dataframe contains many missing values, but this is okay. This simply means that a user has not rated these particular films. Let's now use our new function to compute the similarity metrics between a new user and all others. For simplicity, the new user is chosen to be the very first one in the MovieLens dataset (the one with *UserID* = 1). We then sort these values and grab the 25 individuals most similar to user 1.\n",
    "\n",
    "Let's take a look at the five most similar individuals."
   ]
  },
  {
   "cell_type": "code",
   "execution_count": 720,
   "metadata": {
    "scrolled": true
   },
   "outputs": [
    {
     "name": "stdout",
     "output_type": "stream",
     "text": [
      "cosine: [433, 516, 691, 165, 874]\n",
      "euclid: [516, 359, 433, 800, 691]\n"
     ]
    }
   ],
   "source": [
    "r_cos = similarity(1, movie_matrix, 'cosine')\n",
    "r_cos.sort_values('Similarity', ascending=False, inplace=True)\n",
    "\n",
    "r_euc = similarity(1, movie_matrix, 'euclidean')\n",
    "r_euc.sort_values('Similarity', ascending=True, inplace=True)\n",
    "\n",
    "print('cosine:', r_cos['UserID'].tolist()[:5])\n",
    "print('euclid:', r_euc['UserID'].tolist()[:5])"
   ]
  },
  {
   "cell_type": "markdown",
   "metadata": {},
   "source": [
    "The two metrics return a similar list of users with tastes like *UserID* 1. We can also look at the five least similar individuals."
   ]
  },
  {
   "cell_type": "code",
   "execution_count": 721,
   "metadata": {},
   "outputs": [
    {
     "name": "stdout",
     "output_type": "stream",
     "text": [
      "cosine: [405, 617, 471, 161, 445]\n",
      "euclid: [655, 537, 181, 269, 405]\n"
     ]
    }
   ],
   "source": [
    "print('cosine:', r_cos['UserID'].tolist()[-5:])\n",
    "print('euclid:', r_euc['UserID'].tolist()[-5:])"
   ]
  },
  {
   "cell_type": "markdown",
   "metadata": {},
   "source": [
    "We see that the user whose tastes are closest to *UserID* 1 is *UserID* 433 or 516 depending on which distance metric is used. The person least similar to *UserID* 1 is *UserID* 445 or 405.\n",
    "\n",
    "We now make a new dataframe which compiles all movies seen by the similar individuals. The dataframe contains the *UserID*, *MovieTitle*, and *Rating* given by each person."
   ]
  },
  {
   "cell_type": "code",
   "execution_count": 722,
   "metadata": {},
   "outputs": [],
   "source": [
    "movies_seen = df[df['UserID'].isin(r_cos['UserID'][:25].tolist())][['UserID','MovieTitle','Rating']]"
   ]
  },
  {
   "cell_type": "markdown",
   "metadata": {},
   "source": [
    "For each movie in the compiled list, we can compute a weighted Bayesian estimate just as we did earlier in the exploratory analysis."
   ]
  },
  {
   "cell_type": "code",
   "execution_count": 723,
   "metadata": {},
   "outputs": [
    {
     "data": {
      "text/html": [
       "<div>\n",
       "<style scoped>\n",
       "    .dataframe tbody tr th:only-of-type {\n",
       "        vertical-align: middle;\n",
       "    }\n",
       "\n",
       "    .dataframe tbody tr th {\n",
       "        vertical-align: top;\n",
       "    }\n",
       "\n",
       "    .dataframe thead th {\n",
       "        text-align: right;\n",
       "    }\n",
       "</style>\n",
       "<table border=\"1\" class=\"dataframe\">\n",
       "  <thead>\n",
       "    <tr style=\"text-align: right;\">\n",
       "      <th></th>\n",
       "      <th>MeanRating</th>\n",
       "      <th>NumRatings</th>\n",
       "      <th>Score</th>\n",
       "    </tr>\n",
       "    <tr>\n",
       "      <th>MovieTitle</th>\n",
       "      <th></th>\n",
       "      <th></th>\n",
       "      <th></th>\n",
       "    </tr>\n",
       "  </thead>\n",
       "  <tbody>\n",
       "    <tr>\n",
       "      <th>Star Wars (1977)</th>\n",
       "      <td>4.687500</td>\n",
       "      <td>16</td>\n",
       "      <td>3.689534</td>\n",
       "    </tr>\n",
       "    <tr>\n",
       "      <th>Fargo (1996)</th>\n",
       "      <td>4.733333</td>\n",
       "      <td>15</td>\n",
       "      <td>3.686835</td>\n",
       "    </tr>\n",
       "    <tr>\n",
       "      <th>Godfather, The (1972)</th>\n",
       "      <td>4.666667</td>\n",
       "      <td>12</td>\n",
       "      <td>3.651661</td>\n",
       "    </tr>\n",
       "    <tr>\n",
       "      <th>Pulp Fiction (1994)</th>\n",
       "      <td>4.727273</td>\n",
       "      <td>11</td>\n",
       "      <td>3.648523</td>\n",
       "    </tr>\n",
       "    <tr>\n",
       "      <th>Raiders of the Lost Ark (1981)</th>\n",
       "      <td>4.700000</td>\n",
       "      <td>10</td>\n",
       "      <td>3.636236</td>\n",
       "    </tr>\n",
       "    <tr>\n",
       "      <th>Empire Strikes Back, The (1980)</th>\n",
       "      <td>4.777778</td>\n",
       "      <td>9</td>\n",
       "      <td>3.632899</td>\n",
       "    </tr>\n",
       "    <tr>\n",
       "      <th>Schindler's List (1993)</th>\n",
       "      <td>4.875000</td>\n",
       "      <td>8</td>\n",
       "      <td>3.629500</td>\n",
       "    </tr>\n",
       "    <tr>\n",
       "      <th>Return of the Jedi (1983)</th>\n",
       "      <td>4.266667</td>\n",
       "      <td>15</td>\n",
       "      <td>3.625965</td>\n",
       "    </tr>\n",
       "    <tr>\n",
       "      <th>Dr. Strangelove or: How I Learned to Stop Worrying and Love the Bomb (1963)</th>\n",
       "      <td>4.750000</td>\n",
       "      <td>8</td>\n",
       "      <td>3.620241</td>\n",
       "    </tr>\n",
       "    <tr>\n",
       "      <th>Contact (1997)</th>\n",
       "      <td>4.500000</td>\n",
       "      <td>10</td>\n",
       "      <td>3.618055</td>\n",
       "    </tr>\n",
       "  </tbody>\n",
       "</table>\n",
       "</div>"
      ],
      "text/plain": [
       "                                                    MeanRating  NumRatings  \\\n",
       "MovieTitle                                                                   \n",
       "Star Wars (1977)                                      4.687500          16   \n",
       "Fargo (1996)                                          4.733333          15   \n",
       "Godfather, The (1972)                                 4.666667          12   \n",
       "Pulp Fiction (1994)                                   4.727273          11   \n",
       "Raiders of the Lost Ark (1981)                        4.700000          10   \n",
       "Empire Strikes Back, The (1980)                       4.777778           9   \n",
       "Schindler's List (1993)                               4.875000           8   \n",
       "Return of the Jedi (1983)                             4.266667          15   \n",
       "Dr. Strangelove or: How I Learned to Stop Worry...    4.750000           8   \n",
       "Contact (1997)                                        4.500000          10   \n",
       "\n",
       "                                                       Score  \n",
       "MovieTitle                                                    \n",
       "Star Wars (1977)                                    3.689534  \n",
       "Fargo (1996)                                        3.686835  \n",
       "Godfather, The (1972)                               3.651661  \n",
       "Pulp Fiction (1994)                                 3.648523  \n",
       "Raiders of the Lost Ark (1981)                      3.636236  \n",
       "Empire Strikes Back, The (1980)                     3.632899  \n",
       "Schindler's List (1993)                             3.629500  \n",
       "Return of the Jedi (1983)                           3.625965  \n",
       "Dr. Strangelove or: How I Learned to Stop Worry...  3.620241  \n",
       "Contact (1997)                                      3.618055  "
      ]
     },
     "execution_count": 723,
     "metadata": {},
     "output_type": "execute_result"
    }
   ],
   "source": [
    "BayesianRating(movies_seen, 100).head(10)"
   ]
  },
  {
   "cell_type": "markdown",
   "metadata": {},
   "source": [
    "Finally, here are ten movies that we can recommend to the new user based on our collaborative filtering algorithm. These are films that I myself happen to like very much! However, they're also all very highly rated. Maybe our algorithm is simply recommending highly rated films to every new user we give it. To test this, we can look at the individual with *UserID* 445. This user has the lowest similarity index relative to *UserID* 1, and so we should expect that the films our algorithm suggests to them to be quite different than the ones given in the list above. The list below shows the films recommended to *UserID* 445."
   ]
  },
  {
   "cell_type": "code",
   "execution_count": 711,
   "metadata": {},
   "outputs": [
    {
     "name": "stdout",
     "output_type": "stream",
     "text": [
      "cosine: [639, 3, 900, 181, 828]\n",
      "euclid: [639, 900, 573, 726, 129]\n"
     ]
    }
   ],
   "source": [
    "r_cos = similarity(445, movie_matrix, 'cosine')\n",
    "r_cos.sort_values('Similarity', ascending=False, inplace=True)\n",
    "\n",
    "r_euc = similarity(445, movie_matrix, 'euclidean')\n",
    "r_euc.sort_values('Similarity', ascending=True, inplace=True)\n",
    "\n",
    "print('cosine:', r_cos['UserID'].tolist()[:5])\n",
    "print('euclid:', r_euc['UserID'].tolist()[:5])"
   ]
  },
  {
   "cell_type": "code",
   "execution_count": 714,
   "metadata": {},
   "outputs": [],
   "source": [
    "movies_seen = df[df['UserID'].isin(r_cos['UserID'][:25].tolist())][['UserID','MovieTitle','Rating']]"
   ]
  },
  {
   "cell_type": "code",
   "execution_count": 718,
   "metadata": {},
   "outputs": [
    {
     "data": {
      "text/html": [
       "<div>\n",
       "<style scoped>\n",
       "    .dataframe tbody tr th:only-of-type {\n",
       "        vertical-align: middle;\n",
       "    }\n",
       "\n",
       "    .dataframe tbody tr th {\n",
       "        vertical-align: top;\n",
       "    }\n",
       "\n",
       "    .dataframe thead th {\n",
       "        text-align: right;\n",
       "    }\n",
       "</style>\n",
       "<table border=\"1\" class=\"dataframe\">\n",
       "  <thead>\n",
       "    <tr style=\"text-align: right;\">\n",
       "      <th></th>\n",
       "      <th>MeanRating</th>\n",
       "      <th>NumRatings</th>\n",
       "      <th>Score</th>\n",
       "    </tr>\n",
       "    <tr>\n",
       "      <th>MovieTitle</th>\n",
       "      <th></th>\n",
       "      <th></th>\n",
       "      <th></th>\n",
       "    </tr>\n",
       "  </thead>\n",
       "  <tbody>\n",
       "    <tr>\n",
       "      <th>Boogie Nights (1997)</th>\n",
       "      <td>4.100000</td>\n",
       "      <td>10</td>\n",
       "      <td>3.581691</td>\n",
       "    </tr>\n",
       "    <tr>\n",
       "      <th>Silence of the Lambs, The (1991)</th>\n",
       "      <td>4.285714</td>\n",
       "      <td>7</td>\n",
       "      <td>3.579308</td>\n",
       "    </tr>\n",
       "    <tr>\n",
       "      <th>Pulp Fiction (1994)</th>\n",
       "      <td>4.333333</td>\n",
       "      <td>6</td>\n",
       "      <td>3.575340</td>\n",
       "    </tr>\n",
       "    <tr>\n",
       "      <th>12 Angry Men (1957)</th>\n",
       "      <td>4.400000</td>\n",
       "      <td>5</td>\n",
       "      <td>3.571295</td>\n",
       "    </tr>\n",
       "    <tr>\n",
       "      <th>Full Monty, The (1997)</th>\n",
       "      <td>3.900000</td>\n",
       "      <td>10</td>\n",
       "      <td>3.563509</td>\n",
       "    </tr>\n",
       "    <tr>\n",
       "      <th>Shine (1996)</th>\n",
       "      <td>4.666667</td>\n",
       "      <td>3</td>\n",
       "      <td>3.562971</td>\n",
       "    </tr>\n",
       "    <tr>\n",
       "      <th>As Good As It Gets (1997)</th>\n",
       "      <td>4.666667</td>\n",
       "      <td>3</td>\n",
       "      <td>3.562971</td>\n",
       "    </tr>\n",
       "    <tr>\n",
       "      <th>Dr. Strangelove or: How I Learned to Stop Worrying and Love the Bomb (1963)</th>\n",
       "      <td>4.666667</td>\n",
       "      <td>3</td>\n",
       "      <td>3.562971</td>\n",
       "    </tr>\n",
       "    <tr>\n",
       "      <th>Conan the Barbarian (1981)</th>\n",
       "      <td>5.000000</td>\n",
       "      <td>2</td>\n",
       "      <td>3.558686</td>\n",
       "    </tr>\n",
       "    <tr>\n",
       "      <th>Raising Arizona (1987)</th>\n",
       "      <td>4.250000</td>\n",
       "      <td>4</td>\n",
       "      <td>3.557558</td>\n",
       "    </tr>\n",
       "  </tbody>\n",
       "</table>\n",
       "</div>"
      ],
      "text/plain": [
       "                                                    MeanRating  NumRatings  \\\n",
       "MovieTitle                                                                   \n",
       "Boogie Nights (1997)                                  4.100000          10   \n",
       "Silence of the Lambs, The (1991)                      4.285714           7   \n",
       "Pulp Fiction (1994)                                   4.333333           6   \n",
       "12 Angry Men (1957)                                   4.400000           5   \n",
       "Full Monty, The (1997)                                3.900000          10   \n",
       "Shine (1996)                                          4.666667           3   \n",
       "As Good As It Gets (1997)                             4.666667           3   \n",
       "Dr. Strangelove or: How I Learned to Stop Worry...    4.666667           3   \n",
       "Conan the Barbarian (1981)                            5.000000           2   \n",
       "Raising Arizona (1987)                                4.250000           4   \n",
       "\n",
       "                                                       Score  \n",
       "MovieTitle                                                    \n",
       "Boogie Nights (1997)                                3.581691  \n",
       "Silence of the Lambs, The (1991)                    3.579308  \n",
       "Pulp Fiction (1994)                                 3.575340  \n",
       "12 Angry Men (1957)                                 3.571295  \n",
       "Full Monty, The (1997)                              3.563509  \n",
       "Shine (1996)                                        3.562971  \n",
       "As Good As It Gets (1997)                           3.562971  \n",
       "Dr. Strangelove or: How I Learned to Stop Worry...  3.562971  \n",
       "Conan the Barbarian (1981)                          3.558686  \n",
       "Raising Arizona (1987)                              3.557558  "
      ]
     },
     "execution_count": 718,
     "metadata": {},
     "output_type": "execute_result"
    }
   ],
   "source": [
    "BayesianRating(movies_seen, 100).head(10)"
   ]
  },
  {
   "cell_type": "markdown",
   "metadata": {},
   "source": [
    "Well, the good news is that the list is not simply composed of very highly rated films that essentially everyone likes. There are a few well-liked films included like Silence of the Lambs and Casablanca, but there are also, as we might hope to see, several more obscure films included in there like Boogie Nights, 12 Angry Men, and The Full Monty.\n",
    "\n",
    "Well, that's all I have for now. Thanks for following along!\n",
    "\n",
    "<script>\n",
    "  $(document).ready(function(){\n",
    "    $('div.prompt').hide();\n",
    "    $('div.back-to-top').hide();\n",
    "    $('.breadcrumb').hide();\n",
    "    $('.hidden-print').hide();\n",
    "  });\n",
    "</script>"
   ]
  }
 ],
 "metadata": {
  "kernelspec": {
   "display_name": "Python 3",
   "language": "python",
   "name": "python3"
  },
  "language_info": {
   "codemirror_mode": {
    "name": "ipython",
    "version": 3
   },
   "file_extension": ".py",
   "mimetype": "text/x-python",
   "name": "python",
   "nbconvert_exporter": "python",
   "pygments_lexer": "ipython3",
   "version": "3.6.5"
  }
 },
 "nbformat": 4,
 "nbformat_minor": 1
}
