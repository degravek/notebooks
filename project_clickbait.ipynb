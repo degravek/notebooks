{
 "cells": [
  {
   "cell_type": "markdown",
   "metadata": {},
   "source": [
    "# Introduction\n",
    "In today's age of information, we are constantly bombarded with advertisements and news headlines of various kinds on virtually every web page we visit. With so many people connected to the internet, websites and news outlets are in continuous competition for viewers, and so they are pushed to produce ever more interesting, catchy, and provacative article headlines, regardless of their veracity. In recent years, this has led to an influx of \"news\" headlines that are designed essentially entirely to capture the attention of new viewers, rather than to convey any real, practical journalistic information. These catchy headlines and their associated content are referred to as \"clickbait\". Sites like BuzzFeed and Upworthy are well known for hosting many of these kinds of articles.\n",
    "\n",
    "In a formal sense, clickbait is somewhat hard to define. The Oxford English dictionary defines it as *\"on the internet, content whose main purpose is to attract attention and encourage visitors to click on a link to a particular web page\"*. In a general sense, clickbait headlines are those which satisfy two main criteria:\n",
    "\n",
    "1. They exploit the so-called \"curiosity gap\" by not explaining the full article contents\n",
    "2. They provide misleading information about the article contents\n",
    "\n",
    "In other words, these headlines contain text which leaves the reader curious about what the article contents might be, or they contain text about topics not really covered in the article itself. Examples of clickbait headline include things like\n",
    "\n",
    "* I left my husband and daughter home alone, and you'll never believe what happened!\n",
    "* 19 Tweets anyone addicted to diet coke will totally relate to\n",
    "* What these pilots do with dogs is the most brilliant thing I've ever seen\n",
    "* She picks this object off the ground, but watch what happens when it starts to move!\n",
    "\n",
    "We must be sure to make a distinction here between clickbait and fake news, which has also been talked about more and more as of late. The distinction comes from the fact that fake news actively tries to get the reader to believe things that are untrue. Clickbait, on the other hand, usually just contains \"junk\" news with no real journalistic integrity, and is not constructed to get the reader to believe false claims. \n",
    "\n",
    "Since clickbait is becomming increasingly common, and is genereally considered a nuisance to internet users, let's see if we can use machine learning and natural language processing to identify these headlines automatically. This sort of study has been carried out before by, for example, [Chakraborty et al.](http://cse.iitkgp.ac.in/~abhijnan/papers/chakraborty_clickbait_asonam16.pdf), and is covered in [this informative article](https://www.linkedin.com/pulse/identifying-clickbaits-using-machine-learning-abhishek-thakur).\n",
    "\n",
    "The dataset used in the Chakraborty et al. study is publicly available, and can be found [here](https://github.com/bhargaviparanjape/clickbait/tree/master/dataset). The data contain 16,000 clickbait headlines from BuzzFeed, Upworthy, ViralNova, Thatscoop, Scoopwhoop and ViralStories, along with 16,000 non-clickbait headlines from WikiNews, New York Times, The Guardian, and The Hindu. Let's import some useful Python libraries, and read in the dataset.\n",
    "\n",
    "# Data Collection\n",
    "\n"
   ]
  },
  {
   "cell_type": "code",
   "execution_count": null,
   "metadata": {
    "collapsed": true
   },
   "outputs": [],
   "source": [
    "from selenium.common.exceptions import StaleElementReferenceException\n",
    "from selenium.common.exceptions import NoSuchElementException\n",
    "from selenium.webdriver.common.keys import Keys\n",
    "from selenium import webdriver\n",
    "from time import sleep\n",
    "import json\n",
    "import datetime\n",
    "\n",
    "delay = 1  # Time to wait on each page load before reading the page\n",
    "driver = webdriver.Safari()  # Options are Chrome() Firefox() Safari()\n",
    "\n",
    "odir = '/Users/degravek/Downloads/'\n",
    "filename = 'reddit_news'\n",
    "selector = 'title may-blank '\n",
    "\n",
    "type = ['hot', 'rising', 'gilded', 'top/?sort=top&t=all',\n",
    "        'top/?sort=top&t=year', 'top/?sort=top&t=month', 'top/?sort=top&t=week']\n",
    "\n",
    "data = []\n",
    "for reddit in type:\n",
    "    url = \"https://www.reddit.com/r/savedyouaclick/\" + reddit\n",
    "    print(url)\n",
    "\n",
    "    for count in range(0,10000,25):\n",
    "        driver.get(url)\n",
    "        sleep(delay)\n",
    "        try:\n",
    "            content = driver.find_elements_by_class_name(selector)\n",
    "            print('{} count, {} posts found'.format(count, len(content)))\n",
    "\n",
    "            for element in content:\n",
    "                if \"|\" in element.text:\n",
    "                    try:\n",
    "                        element = element.text.split('|')[0].strip()\n",
    "                        data.append(element.text)\n",
    "                    except StaleElementReferenceException as e:\n",
    "                        print('lost element reference', element)\n",
    "\n",
    "        except NoSuchElementException:\n",
    "            print('no posts on this page')\n",
    "        try:\n",
    "            div = driver.find_element_by_class_name('next-button')\n",
    "            url = div.find_element_by_css_selector('a').get_attribute('href')\n",
    "        except:\n",
    "            break\n",
    "\n",
    "driver.close()\n",
    "\n",
    "df = pd.DataFrame(data)\n",
    "df.drop_duplicates(inplace=True)\n",
    "df.to_csv(odir + filename + '.csv', mode='w', encoding='utf-8', index=False, header=False)"
   ]
  },
  {
   "cell_type": "code",
   "execution_count": 45,
   "metadata": {},
   "outputs": [],
   "source": [
    "from sklearn.feature_extraction.text import TfidfVectorizer\n",
    "from sklearn.feature_extraction.text import CountVectorizer\n",
    "from sklearn.model_selection import train_test_split\n",
    "from sklearn.linear_model import LogisticRegression\n",
    "from sklearn.metrics import classification_report\n",
    "from sklearn.preprocessing import StandardScaler\n",
    "from nltk.stem.wordnet import WordNetLemmatizer\n",
    "from sklearn.model_selection import GridSearchCV\n",
    "from sklearn.metrics import confusion_matrix\n",
    "from nltk.stem.porter import PorterStemmer\n",
    "from sklearn.metrics import roc_auc_score\n",
    "from sklearn.metrics import roc_curve\n",
    "from sklearn.pipeline import Pipeline\n",
    "from nltk.corpus import stopwords\n",
    "from string import punctuation\n",
    "import seaborn as sns\n",
    "import pandas as pd\n",
    "import numpy as np\n",
    "import nltk\n",
    "import re\n",
    "\n",
    "import matplotlib.pyplot as mp\n",
    "%matplotlib inline\n",
    "\n",
    "idir = '/Users/degravek/DataScience/Site/clickbait/reddit/'\n",
    "df_y = pd.read_table(idir + 'y_clickbait.txt', encoding='utf-8', names=['text'])\n",
    "df_n = pd.read_table(idir + 'n_clickbait.txt', encoding='utf-8', names=['text'])\n",
    "\n",
    "df_y['clickbait'] = 1\n",
    "df_n['clickbait'] = 0\n",
    "\n",
    "df = df_y.append(df_n, ignore_index=True).reset_index(drop=True)"
   ]
  },
  {
   "cell_type": "code",
   "execution_count": 46,
   "metadata": {},
   "outputs": [
    {
     "data": {
      "text/plain": [
       "<matplotlib.axes._subplots.AxesSubplot at 0x115043908>"
      ]
     },
     "execution_count": 46,
     "metadata": {},
     "output_type": "execute_result"
    },
    {
     "data": {
      "image/png": "[encoded data removed]",
      "text/plain": [
       "<matplotlib.figure.Figure at 0x114ebccc0>"
      ]
     },
     "metadata": {},
     "output_type": "display_data"
    }
   ],
   "source": [
    "sns.countplot(df['clickbait'])"
   ]
  },
  {
   "cell_type": "markdown",
   "metadata": {},
   "source": [
    "There are 5637 clickbait and 6080 non-clickbait headlines."
   ]
  },
  {
   "cell_type": "markdown",
   "metadata": {},
   "source": [
    "# Feature Engineering\n",
    "Now that the data is loaded, one option is to move ahead using only the headline text to identify clickbait headlines. It turns out that this actually gives very good results. However, it is also possible to engineer some new features from the available data. These new features include things like:\n",
    "\n",
    "* Number of words in the headline\n",
    "* Number of stop words in the headline\n",
    "* Number of contractions in the headline\n",
    "* Frequency of various parts of speech in the headline\n",
    "* Is the headline a question?\n",
    "* Ratio of stop words to total number of words\n",
    "* Ratio of contractions to total number of words\n",
    "\n",
    "To produce these new features, we'll first need to define a few functions. The function process_text carries out the task of processing the raw headlines. It makes every headline lowercase, removes any punctuation and extra white space, and replaces any numerical values with the word \"number\". Next, the function cnt_stop_words tokenizes (splits) each headline into it's individual words, and counts the number of those words that appear in the NLTK corpus of pre-defined stop words.\n",
    "\n",
    "It is often the case that clickbait headlines are stated in the form of a question. For example, something like \"Can you spot the amazing thing in this photo?\". Since the particular dataset we're using doesn't actually contain punctuation like question marks, we can try to determine if the text is stated as a question based on the first word in the headline. Questions typically start with words like \"who\", \"what\", \"when\", \"can\", etc. To this end, we can define a list of question_words, and a function to check if any of these words starts a headline.\n",
    "\n",
    "Clickbait headlines also tend to contain more informal writing than non-clickbait headlines. As such, they may contain many more contractions, occurrences of slang, etc. Below, we can make a list of possible contractions to look for, as well as a function to check for them.\n",
    "\n",
    "Lastly, a function is defined to check the part-of-speech (i.e., noun, verb, adjective, etc.) of each word in a headline. It's possible that non-clickbait headlines contain, for example, more nouns than do clickbait headlines. This part-of-speech tagging is carried out using methods from the NLTK package."
   ]
  },
  {
   "cell_type": "code",
   "execution_count": 47,
   "metadata": {
    "collapsed": true
   },
   "outputs": [],
   "source": [
    "contractions = [\"aren't\", \"can't\", \"couldn't\", \"didn't\", \"doesn't\", \"don't\", \"hadn't\",\n",
    "                \"hasn't\", \"haven't\", \"he'd\", \"he'll\", \"he's\", \"I'd\", \"I'll\", \"I'm\", \"I've\",\n",
    "                \"isn't\", \"let's\", \"mightn't\", \"mustn't\", \"shan't\", \"she'd\", \"she'll\", \"she's\",\n",
    "                \"shouldn't\", \"that's\", \"there's\", \"they'd\", \"they'll\", \"they're\", \"they've\",\n",
    "                \"we'd\", \"we're\", \"we've\", \"weren't\", \"what'll\", \"what're\", \"what's\", \"what've\",\n",
    "                \"where's\", \"who's\", \"who'll\", \"who're\", \"who's\", \"who've\", \"won't\", \"wouldn't\",\n",
    "                \"you'd\", \"you'll\", \"you're\", \"you've\"]\n",
    "\n",
    "punctuation = '!\"#?$%“”&\\'()’*+,—./:;<=>@[\\\\]^_`{|}~…' #(removed - symbol)\n",
    "def processText(text):\n",
    "    result = text.lower()\n",
    "    result = ''.join(p for p in result\n",
    "                    if p not in punctuation)\n",
    "    result = re.sub(r' +', \" \", result).strip()\n",
    "    return result\n",
    "\n",
    "stop = stopwords.words('english')\n",
    "def numStopWords(text):\n",
    "    s = text.split()\n",
    "    num = len([word for word in s if word in stop])\n",
    "    return num\n",
    "\n",
    "def numContract(text):\n",
    "    s = text.lower().split()\n",
    "    num = len([word for word in s if word in contractions])\n",
    "    return num\n",
    "\n",
    "def numPunc(text):\n",
    "    num_exc = len([p for p in text if p == \"!\"])\n",
    "    num_que = len([p for p in text if p == \"?\"])\n",
    "    return num_exc + num_que\n",
    "\n",
    "def numNumbers(text):\n",
    "    result = len([w for w in text.split() if w.isdigit()])\n",
    "    return result\n",
    "\n",
    "def isQuestion(text):\n",
    "    if text[-1] == \"?\":\n",
    "        return 1\n",
    "    else:\n",
    "        return 0\n",
    "\n",
    "def partSpeech(text):\n",
    "    s = text.lower().split()\n",
    "    nonstop = [word for word in s if word not in stop]\n",
    "    pos = [part[1] for part in nltk.pos_tag(nonstop)]\n",
    "    pos = ' '.join(pos)\n",
    "    return pos"
   ]
  },
  {
   "cell_type": "markdown",
   "metadata": {},
   "source": [
    "With our functions defined, let's apply them to the data."
   ]
  },
  {
   "cell_type": "code",
   "execution_count": 48,
   "metadata": {},
   "outputs": [],
   "source": [
    "df['text_pro'] = df['text'].apply(processText)\n",
    "df['num_punc'] = df['text'].apply(numPunc)\n",
    "df['question'] = df['text'].apply(isQuestion)\n",
    "df['num_contract'] = df['text'].apply(numContract)\n",
    "\n",
    "df['num_stop'] = df['text_pro'].apply(numStopWords)\n",
    "df['num_words'] = df['text_pro'].apply(lambda x: len(x.split()))\n",
    "df['num_numbers'] = df['text_pro'].apply(numNumbers)\n",
    "df['part_speech'] = df['text_pro'].apply(partSpeech)\n",
    "df['contract_ratio'] = df['num_contract']/df['num_words']\n",
    "df['stop_ratio'] = df['num_stop']/df['num_words']"
   ]
  },
  {
   "cell_type": "markdown",
   "metadata": {},
   "source": [
    "Here's what the data look like."
   ]
  },
  {
   "cell_type": "code",
   "execution_count": 49,
   "metadata": {},
   "outputs": [
    {
     "data": {
      "text/html": [
       "<div>\n",
       "<table border=\"1\" class=\"dataframe\">\n",
       "  <thead>\n",
       "    <tr style=\"text-align: right;\">\n",
       "      <th></th>\n",
       "      <th>text</th>\n",
       "      <th>clickbait</th>\n",
       "      <th>num_punc</th>\n",
       "      <th>question</th>\n",
       "      <th>num_contract</th>\n",
       "      <th>num_stop</th>\n",
       "      <th>num_words</th>\n",
       "      <th>num_numbers</th>\n",
       "      <th>part_speech</th>\n",
       "      <th>contract_ratio</th>\n",
       "      <th>stop_ratio</th>\n",
       "    </tr>\n",
       "  </thead>\n",
       "  <tbody>\n",
       "    <tr>\n",
       "      <th>0</th>\n",
       "      <td>10 Celebs Killin The Elf On The Shelf Game</td>\n",
       "      <td>1</td>\n",
       "      <td>0</td>\n",
       "      <td>0</td>\n",
       "      <td>0</td>\n",
       "      <td>3</td>\n",
       "      <td>9</td>\n",
       "      <td>1</td>\n",
       "      <td>CD JJ NN PRP PRP NN</td>\n",
       "      <td>0.0</td>\n",
       "      <td>0.333333</td>\n",
       "    </tr>\n",
       "    <tr>\n",
       "      <th>1</th>\n",
       "      <td>All The Looks At The People's Choice Awards</td>\n",
       "      <td>1</td>\n",
       "      <td>0</td>\n",
       "      <td>0</td>\n",
       "      <td>0</td>\n",
       "      <td>4</td>\n",
       "      <td>8</td>\n",
       "      <td>0</td>\n",
       "      <td>NNS NNS NN NNS</td>\n",
       "      <td>0.0</td>\n",
       "      <td>0.500000</td>\n",
       "    </tr>\n",
       "    <tr>\n",
       "      <th>2</th>\n",
       "      <td>Does Kylie Jenner Know How To Wear Coats? A Ve...</td>\n",
       "      <td>1</td>\n",
       "      <td>1</td>\n",
       "      <td>0</td>\n",
       "      <td>0</td>\n",
       "      <td>5</td>\n",
       "      <td>12</td>\n",
       "      <td>0</td>\n",
       "      <td>VB NN VBP IN NNS JJ NN</td>\n",
       "      <td>0.0</td>\n",
       "      <td>0.416667</td>\n",
       "    </tr>\n",
       "    <tr>\n",
       "      <th>3</th>\n",
       "      <td>24 GIFs That Show How Corinne Is The Greatest ...</td>\n",
       "      <td>1</td>\n",
       "      <td>0</td>\n",
       "      <td>0</td>\n",
       "      <td>0</td>\n",
       "      <td>4</td>\n",
       "      <td>12</td>\n",
       "      <td>1</td>\n",
       "      <td>CD NNS VBP JJ JJS NN NN RB</td>\n",
       "      <td>0.0</td>\n",
       "      <td>0.333333</td>\n",
       "    </tr>\n",
       "    <tr>\n",
       "      <th>4</th>\n",
       "      <td>All The Looks At The 2017 Golden Globes</td>\n",
       "      <td>1</td>\n",
       "      <td>0</td>\n",
       "      <td>0</td>\n",
       "      <td>0</td>\n",
       "      <td>4</td>\n",
       "      <td>8</td>\n",
       "      <td>1</td>\n",
       "      <td>NNS CD JJ NNS</td>\n",
       "      <td>0.0</td>\n",
       "      <td>0.500000</td>\n",
       "    </tr>\n",
       "  </tbody>\n",
       "</table>\n",
       "</div>"
      ],
      "text/plain": [
       "                                                text  clickbait  num_punc  \\\n",
       "0         10 Celebs Killin The Elf On The Shelf Game          1         0   \n",
       "1        All The Looks At The People's Choice Awards          1         0   \n",
       "2  Does Kylie Jenner Know How To Wear Coats? A Ve...          1         1   \n",
       "3  24 GIFs That Show How Corinne Is The Greatest ...          1         0   \n",
       "4            All The Looks At The 2017 Golden Globes          1         0   \n",
       "\n",
       "   question  num_contract  num_stop  num_words  num_numbers  \\\n",
       "0         0             0         3          9            1   \n",
       "1         0             0         4          8            0   \n",
       "2         0             0         5         12            0   \n",
       "3         0             0         4         12            1   \n",
       "4         0             0         4          8            1   \n",
       "\n",
       "                  part_speech  contract_ratio  stop_ratio  \n",
       "0         CD JJ NN PRP PRP NN             0.0    0.333333  \n",
       "1              NNS NNS NN NNS             0.0    0.500000  \n",
       "2      VB NN VBP IN NNS JJ NN             0.0    0.416667  \n",
       "3  CD NNS VBP JJ JJS NN NN RB             0.0    0.333333  \n",
       "4               NNS CD JJ NNS             0.0    0.500000  "
      ]
     },
     "execution_count": 49,
     "metadata": {},
     "output_type": "execute_result"
    }
   ],
   "source": [
    "df.drop('text_pro', axis=1).head()"
   ]
  },
  {
   "cell_type": "markdown",
   "metadata": {},
   "source": [
    "Let's plot some of these columns."
   ]
  },
  {
   "cell_type": "code",
   "execution_count": 50,
   "metadata": {},
   "outputs": [
    {
     "data": {
      "text/plain": [
       "<matplotlib.text.Text at 0x11b134ac8>"
      ]
     },
     "execution_count": 50,
     "metadata": {},
     "output_type": "execute_result"
    },
    {
     "data": {
      "image/png": "[encoded data removed]",
      "text/plain": [
       "<matplotlib.figure.Figure at 0x119495a58>"
      ]
     },
     "metadata": {},
     "output_type": "display_data"
    }
   ],
   "source": [
    "figure, axes = mp.subplots(nrows=2, ncols=2, figsize=(12,12))\n",
    "\n",
    "plot = df.groupby('question')['clickbait'].value_counts().unstack().plot.bar(ax=axes[0,0], rot=0)\n",
    "plot.set_xlabel('Headline Question')\n",
    "plot.set_ylabel('Number of Headlines')\n",
    "\n",
    "plot = df.groupby('num_words')['clickbait'].value_counts().unstack().plot.bar(ax=axes[0,1], rot=0)\n",
    "plot.set_xlabel('Number of Words')\n",
    "plot.set_ylabel('Number of Headlines')\n",
    "\n",
    "plot = df.groupby('num_stop')['clickbait'].value_counts().unstack().plot.bar(ax=axes[1,0], rot=0)\n",
    "plot.set_xlabel('Number of Stop Words')\n",
    "plot.set_ylabel('Number of Headlines')\n",
    "\n",
    "plot = df.groupby('num_contract')['clickbait'].value_counts().unstack().plot.bar(ax=axes[1,1], rot=0)\n",
    "plot.set_xlabel('Number of Contractions')\n",
    "plot.set_ylabel('Number of Headlines')"
   ]
  },
  {
   "cell_type": "markdown",
   "metadata": {},
   "source": [
    "Well, there definitely do appear to be differences between the clickbait and non-clickbait headlines in terms of number of words, stop words, and contractions. As I suspected, clickbait headlines are also much more likely to be phrased as a question.\n",
    "\n",
    "Let's check for collinearity in the numerical data."
   ]
  },
  {
   "cell_type": "code",
   "execution_count": 51,
   "metadata": {},
   "outputs": [
    {
     "data": {
      "image/png": "[encoded data removed]",
      "text/plain": [
       "<matplotlib.figure.Figure at 0x1146db8d0>"
      ]
     },
     "metadata": {},
     "output_type": "display_data"
    }
   ],
   "source": [
    "figure, axes = mp.subplots(figsize=(10,8))\n",
    "sns.heatmap(df.drop(['text','clickbait'], axis=1).corr(), annot=True, vmax=1, linewidths=0.5)\n",
    "mp.xticks(rotation=45)\n",
    "mp.yticks(rotation=360)\n",
    "mp.show()"
   ]
  },
  {
   "cell_type": "markdown",
   "metadata": {},
   "source": [
    "There does appear to be some collinearity present, especially between contract_ratio vs. num_contract, and between stop_ratio vs. num_stop. This makes sense as the number of contractions or stopwords present will of course affect the contraction and stopword ratios. This collinearity could potentially jeopardize the accuracy of our classifier though, and to this end we can go ahead and drop num_stop and num_contract from our dataset."
   ]
  },
  {
   "cell_type": "code",
   "execution_count": 52,
   "metadata": {
    "collapsed": true
   },
   "outputs": [],
   "source": [
    "df.drop(['num_stop','num_contract'], axis=1, inplace=True)"
   ]
  },
  {
   "cell_type": "markdown",
   "metadata": {},
   "source": [
    "Now we can split our data into training and test sets and get to classifying! We'll put 80% of the data into the training set, and 20% into the test set."
   ]
  },
  {
   "cell_type": "code",
   "execution_count": 92,
   "metadata": {
    "collapsed": true
   },
   "outputs": [],
   "source": [
    "df_train, df_test = train_test_split(df, test_size=0.2, random_state=0)\n",
    "\n",
    "df_train.reset_index(drop=True, inplace=True)\n",
    "df_test.reset_index(drop=True, inplace=True)"
   ]
  },
  {
   "cell_type": "markdown",
   "metadata": {},
   "source": [
    "To convert the headline text into the numerical data necessary for classification, we can use Scikit-Learn's TfidfVectorizer. The tf-idf is short for term frequency-inverse document frequency. In essence, tf-idf counts the number of occurrences of the words in each headline and weights these frequencies by their total number of occurrences across all headlines. The idea is that commonly occurring words like \"the\" and \"can\" appear so frequently that they are very likely to be unimportant in distinguishing between the two classes."
   ]
  },
  {
   "cell_type": "code",
   "execution_count": 54,
   "metadata": {
    "collapsed": true
   },
   "outputs": [],
   "source": [
    "tfidf = TfidfVectorizer(min_df=3, max_features=None, strip_accents='unicode',\n",
    "                           analyzer='word', token_pattern=r'\\w{1,}', ngram_range=(1,5),\n",
    "                           use_idf=1, smooth_idf=1, sublinear_tf=1)\n",
    "\n",
    "X_train_text = tfidf.fit_transform(df_train['text'])\n",
    "X_test_text  = tfidf.transform(df_test['text'])"
   ]
  },
  {
   "cell_type": "markdown",
   "metadata": {},
   "source": [
    "Next, we can use CountVectorizer to count the number of part-of-speech occurrences in each headline. These counts are then scaled using StandardScaler."
   ]
  },
  {
   "cell_type": "code",
   "execution_count": 55,
   "metadata": {},
   "outputs": [
    {
     "name": "stderr",
     "output_type": "stream",
     "text": [
      "/Users/degravek/anaconda/lib/python3.6/site-packages/sklearn/utils/validation.py:429: DataConversionWarning: Data with input dtype int64 was converted to float64 by StandardScaler.\n",
      "  warnings.warn(msg, _DataConversionWarning)\n"
     ]
    }
   ],
   "source": [
    "cvec = CountVectorizer()\n",
    "\n",
    "X_train_pos = cvec.fit_transform(df_train['part_speech'])\n",
    "X_test_pos  = cvec.transform(df_test['part_speech'])\n",
    "\n",
    "sc = StandardScaler(with_mean=False)\n",
    "X_train_pos_sc = sc.fit_transform(X_train_pos)\n",
    "X_test_pos_sc  = sc.transform(X_test_pos)"
   ]
  },
  {
   "cell_type": "markdown",
   "metadata": {},
   "source": [
    "We can then isolate the engineered features and scale their values so that they heave a mean of zero and unit standard deviation. This is necessary for many classifiers in order to obtain good results."
   ]
  },
  {
   "cell_type": "code",
   "execution_count": 58,
   "metadata": {},
   "outputs": [],
   "source": [
    "X_train_val = df_train.drop(['clickbait','text','text_pro','part_speech'], axis=1).values\n",
    "X_test_val  = df_test.drop(['clickbait','text','text_pro','part_speech'], axis=1).values\n",
    "\n",
    "sc = StandardScaler()\n",
    "X_train_val_sc = sc.fit(X_train_val).transform(X_train_val)\n",
    "X_test_val_sc  = sc.transform(X_test_val)\n",
    "\n",
    "y_train = df_train['clickbait'].values\n",
    "y_test  = df_test['clickbait'].values"
   ]
  },
  {
   "cell_type": "markdown",
   "metadata": {},
   "source": [
    "Lastly, we can combine the new tf-idf vectors with the scaled engineered features and store them as sparse arrays. This helps to save memory as the tf-idf vectors are extremely large, but are composed mostly of zeros."
   ]
  },
  {
   "cell_type": "code",
   "execution_count": 59,
   "metadata": {
    "collapsed": true
   },
   "outputs": [],
   "source": [
    "from scipy import sparse\n",
    "\n",
    "X_train = sparse.hstack([X_train_val_sc, X_train_text, X_train_pos_sc]).tocsr()\n",
    "X_test  = sparse.hstack([X_test_val_sc, X_test_text, X_test_pos_sc]).tocsr()"
   ]
  },
  {
   "cell_type": "markdown",
   "metadata": {},
   "source": [
    "It turns out that logistic regression tends to give the best results for this classification problem, so we'll use it here. Below, we can use GridSearchCV to find the best regularization parameter for the job."
   ]
  },
  {
   "cell_type": "code",
   "execution_count": null,
   "metadata": {},
   "outputs": [],
   "source": [
    "param_grid = [{'C': np.linspace(90,100,20)}]\n",
    "\n",
    "grid_cv = GridSearchCV(LogisticRegression(), param_grid, scoring='accuracy', cv=10, verbose=1)\n",
    "grid_cv.fit(X_train, y_train)\n",
    "\n",
    "print(grid_cv.best_params_)\n",
    "print(grid_cv.best_score_)\n",
    "\n",
    "#Best parameter: 'C': 92.10526315789474\n",
    "#Best accuracry:  0.906433372453"
   ]
  },
  {
   "cell_type": "markdown",
   "metadata": {
    "collapsed": true
   },
   "source": [
    "Ten-fold cross-validation suggests that we obtain a classification accuracy of about 90%. Not bad at all! We can now apply the classifier to our test data to make some final predictions."
   ]
  },
  {
   "cell_type": "code",
   "execution_count": null,
   "metadata": {},
   "outputs": [],
   "source": [
    "model = LogisticRegression(penalty='l2', C=92.10526315789474)\n",
    "model = model.fit(X_train, y_train)\n",
    "predict = model.predict(X_test)\n",
    "\n",
    "print(classification_report(y_test, predict))\n",
    "\n",
    "             precision    recall  f1-score   support\n",
    "\n",
    "          0       0.91      0.93      0.92      1244\n",
    "          1       0.91      0.90      0.91      1100\n",
    "\n",
    "avg / total       0.91      0.91      0.91      2344"
   ]
  },
  {
   "cell_type": "markdown",
   "metadata": {},
   "source": [
    "The classification report gives\n",
    "\n",
    "* A precision value of 0.91\n",
    "* A recall value of 0.91\n",
    "* An F1-score of 0.91\n",
    "\n",
    "Let's plot the confusion matrix."
   ]
  },
  {
   "cell_type": "code",
   "execution_count": 66,
   "metadata": {},
   "outputs": [
    {
     "data": {
      "text/plain": [
       "<matplotlib.text.Text at 0x11e10ee80>"
      ]
     },
     "execution_count": 66,
     "metadata": {},
     "output_type": "execute_result"
    },
    {
     "data": {
      "image/png": "[encoded data removed]",
      "text/plain": [
       "<matplotlib.figure.Figure at 0x11f140fd0>"
      ]
     },
     "metadata": {},
     "output_type": "display_data"
    }
   ],
   "source": [
    "figure, axes = mp.subplots(figsize=(8,6))\n",
    "cm = confusion_matrix(y_test, predict).T\n",
    "cm = cm.astype('float')/cm.sum(axis=0)\n",
    "\n",
    "sns.heatmap(cm, annot=True, cmap='Blues');\n",
    "mp.xlabel('True Label')\n",
    "mp.ylabel('Predicted Label')"
   ]
  },
  {
   "cell_type": "markdown",
   "metadata": {},
   "source": [
    "The confusion matrix suggests that we misclassify real news headlines nearly as often as clickbait headlines (7.4% vs. 10% respectively). Now let's plot the corresponding ROC curve."
   ]
  },
  {
   "cell_type": "code",
   "execution_count": 67,
   "metadata": {},
   "outputs": [
    {
     "data": {
      "image/png": "[encoded data removed]",
      "text/plain": [
       "<matplotlib.figure.Figure at 0x11e088748>"
      ]
     },
     "metadata": {},
     "output_type": "display_data"
    }
   ],
   "source": [
    "figure, axes = mp.subplots(figsize=(8,8))\n",
    "fpr, tpr, thresholds = roc_curve(y_test, model.predict_proba(X_test)[:,1])\n",
    "roc_auc = roc_auc_score(y_test, predict)\n",
    "\n",
    "mp.plot(fpr, tpr, lw=1, label='AUC = %0.2f'%(roc_auc))\n",
    "mp.plot([0, 1], [0, 1], '--k', lw=1)\n",
    "mp.xlabel('False Positive Rate')\n",
    "mp.ylabel('True Positive Rate')\n",
    "mp.title('ROC')\n",
    "mp.legend(loc=\"lower right\", frameon = True).get_frame().set_edgecolor('black')"
   ]
  },
  {
   "cell_type": "markdown",
   "metadata": {
    "collapsed": true
   },
   "source": [
    "As expected, the ROC curve is very good and hugs the upper left-hand corner of the figure. The area under the curve (AUC) is 0.91, suggesting good classification performance.\n",
    "\n",
    "If we split the headlines into separate clickbait and non-clickbait groups, we can use tf-idf to compare which kinds of words occur more frequently among them."
   ]
  },
  {
   "cell_type": "code",
   "execution_count": 87,
   "metadata": {
    "collapsed": true
   },
   "outputs": [],
   "source": [
    "tfidf_ycb = TfidfVectorizer(min_df=3, max_features=None, strip_accents='unicode',\n",
    "                           analyzer='word', token_pattern=r'\\w{1,}', ngram_range=(1,3),\n",
    "                           use_idf=1, smooth_idf=1, sublinear_tf=1, stop_words='english')\n",
    "ycb = tfidf_ycb.fit_transform(df_train.loc[df['clickbait']==1, 'text'])\n",
    "\n",
    "tfidf_ncb = TfidfVectorizer(min_df=3, max_features=None, strip_accents='unicode',\n",
    "                           analyzer='word', token_pattern=r'\\w{1,}', ngram_range=(1,3),\n",
    "                           use_idf=1, smooth_idf=1, sublinear_tf=1, stop_words='english')\n",
    "ncb = tfidf_ncb.fit_transform(df_train.loc[df['clickbait']==0, 'text'])\n",
    "\n",
    "ycb_values = ycb.mean(axis=0).tolist()\n",
    "ycb_names = tfidf_ycb.get_feature_names()\n",
    "ncb_values = ncb.mean(axis=0).tolist()\n",
    "ncb_names = tfidf_ncb.get_feature_names()"
   ]
  },
  {
   "cell_type": "markdown",
   "metadata": {},
   "source": [
    "We can place the results in two dataframes to handle them a little more easily."
   ]
  },
  {
   "cell_type": "code",
   "execution_count": 88,
   "metadata": {
    "collapsed": true
   },
   "outputs": [],
   "source": [
    "import itertools\n",
    "\n",
    "q_ycb = pd.DataFrame()\n",
    "q_ycb['names'] = ycb_names\n",
    "q_ycb['values'] = list(itertools.chain.from_iterable(ycb_values))\n",
    "q_ycb = q_ycb.sort_values('values', ascending=True)\n",
    "\n",
    "q_ncb = pd.DataFrame()\n",
    "q_ncb['names'] = ncb_names\n",
    "q_ncb['values'] = list(itertools.chain.from_iterable(ncb_values))\n",
    "q_ncb = q_ncb.sort_values('values', ascending=True)"
   ]
  },
  {
   "cell_type": "markdown",
   "metadata": {},
   "source": [
    "And plot the results."
   ]
  },
  {
   "cell_type": "code",
   "execution_count": 89,
   "metadata": {},
   "outputs": [
    {
     "data": {
      "text/plain": [
       "<matplotlib.text.Text at 0x1137827b8>"
      ]
     },
     "execution_count": 89,
     "metadata": {},
     "output_type": "execute_result"
    },
    {
     "data": {
      "image/png": "[encoded data removed]",
      "text/plain": [
       "<matplotlib.figure.Figure at 0x11e014860>"
      ]
     },
     "metadata": {},
     "output_type": "display_data"
    }
   ],
   "source": [
    "figure, axes = mp.subplots(nrows=1, ncols=2, figsize=(12,7))\n",
    "mp.tight_layout(8,1)\n",
    "\n",
    "plot = q_ycb[-20:].plot.barh(x='names', y='values', ax=axes[0], rot=0)\n",
    "plot.set_xlabel('Mean tf-idf')\n",
    "plot.set_ylabel('Words')\n",
    "plot.set_title('Clickbait')\n",
    "\n",
    "plot = q_ncb[-20:].plot.barh(x='names', y='values', ax=axes[1], rot=0)\n",
    "plot.set_xlabel('Mean tf-idf')\n",
    "plot.set_ylabel('Words')\n",
    "plot.set_title('Non-Clickbait')"
   ]
  },
  {
   "cell_type": "markdown",
   "metadata": {},
   "source": [
    "As we might expect, the words are quite different between the two sets. Clickbait headlines tend to contain words like \"phots\", \"new\", \"things\", etc., while the non-clickbait headlines contain more serious subject matter like \"brexit\", \"australian\", and \"police\". Also, note that several of the top clickbait features are numbers. These represent headlines like \"10 things you'll never believe!\".\n",
    "\n",
    "Let's take a look at some of the headlines we misclassified."
   ]
  },
  {
   "cell_type": "code",
   "execution_count": 111,
   "metadata": {
    "scrolled": false
   },
   "outputs": [
    {
     "name": "stdout",
     "output_type": "stream",
     "text": [
      "                                                 text  clickbait  predict\n",
      "6    Kanye West Released From Hospital After One Week          1        0\n",
      "12  Late-night hosts on the inauguration: 'How is ...          0        1\n",
      "15  Zac Efron And His New Mustache Hold The Luckie...          1        0\n",
      "22      A Look Back At Zsa Zsa Gabor's Nine Marriages          1        0\n",
      "29  What lies beneath: discovering surprising jewe...          0        1\n",
      "34  Telangana: Girl gangraped in front of boyfrien...          0        1\n",
      "44  Auction For Ivanka Trump Coffee Date Canceled ...          1        0\n",
      "46  John Brennan: Trump's 'Nazi Germany' tweet to ...          0        1\n",
      "56  Washington Metro counted more trips for Womens...          1        0\n",
      "60  The sad truth about having a baby: cattle care...          0        1\n"
     ]
    },
    {
     "name": "stderr",
     "output_type": "stream",
     "text": [
      "/Users/degravek/anaconda/lib/python3.6/site-packages/ipykernel_launcher.py:1: SettingWithCopyWarning: \n",
      "A value is trying to be set on a copy of a slice from a DataFrame.\n",
      "Try using .loc[row_indexer,col_indexer] = value instead\n",
      "\n",
      "See the caveats in the documentation: http://pandas.pydata.org/pandas-docs/stable/indexing.html#indexing-view-versus-copy\n",
      "  \"\"\"Entry point for launching an IPython kernel.\n"
     ]
    }
   ],
   "source": [
    "df_test['predict'] = predict\n",
    "print(df_test.loc[df_test['clickbait'] != df_test['predict'], ['text','clickbait','predict']][:10])"
   ]
  },
  {
   "cell_type": "code",
   "execution_count": null,
   "metadata": {},
   "outputs": [],
   "source": [
    "                                                   text  clickbait  predict\n",
    "6      Kanye West Released From Hospital After One Week          1        0\n",
    "12    Late-night hosts on the inauguration: 'How is ...          0        1\n",
    "86    The Future Of Starbucks Is Slower And More Exp...          1        0\n",
    "90    Trump Says He Intends To Nominate Ben Carson A...          1        0\n",
    "151   Moves like Middleton: the New York etiquette c...          0        1"
   ]
  },
  {
   "cell_type": "markdown",
   "metadata": {},
   "source": [
    "There actually appear to be a few cases where a headline was deemed to be clickbait, though I personally might not have classified it as such. For example, the headlines \"bruno mars might headline superbowl\", and \"night owls become early risers\" were labeled as clickbait by the collectors of this dataset, though these could possibly constitute legitimate news headlines (albeit maybe poor ones).\n",
    "\n",
    "# Concluding Remarks\n",
    "In this notebook we used logistic regression and natural language processing to accurately classify clickbait headlines. The results were surprisingly good, as we obtained an accuracy score of 97.6%, an F1-score of 0.98, and an ROC AUC of 0.98. This classifier actually performs better than that of Chakraborty et al., in which an accuracy score of 93% was achieved. An interesting next step would be to use this classifier to deploy a real clickbait detection extension for a web browser like Firefox or Safari. This was actually done in the Chakraborty et al. paper, where an accuracy of 83% in blocking clickbaits was attained.\n",
    "\n",
    "Well, that’s all I have for now. Thanks for following along!\n",
    "\n",
    "<script>\n",
    "  $(document).ready(function(){\n",
    "    $('div.prompt').hide();\n",
    "    $('div.back-to-top').hide();\n",
    "    $('.breadcrumb').hide();\n",
    "    $('.hidden-print').hide();\n",
    "  });\n",
    "</script>"
   ]
  }
 ],
 "metadata": {
  "anaconda-cloud": {},
  "kernelspec": {
   "display_name": "Python 3",
   "language": "python",
   "name": "python3"
  },
  "language_info": {
   "codemirror_mode": {
    "name": "ipython",
    "version": 3
   },
   "file_extension": ".py",
   "mimetype": "text/x-python",
   "name": "python",
   "nbconvert_exporter": "python",
   "pygments_lexer": "ipython3",
   "version": "3.6.1"
  }
 },
 "nbformat": 4,
 "nbformat_minor": 2
}
