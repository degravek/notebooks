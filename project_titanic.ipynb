{
 "cells": [
  {
   "cell_type": "markdown",
   "metadata": {},
   "source": [
    "The sinking of the RMS Titanic is one of the most infamous shipwrecks in history. On April 15, 1912, during her maiden voyage, the Titanic sank after colliding with an iceberg, killing 1,502 out of 2,224 passengers and crew. This sensational tragedy shocked the international community and led to better safety regulations for ships.\n",
    "\n",
    "One of the reasons that the shipwreck led to such loss of life was that there were not enough lifeboats for the passengers and crew. Although there was some element of luck involved in surviving the sinking, some groups of people were more likely to survive than others, such as women, children, and the upper-class. Here, I'll use machine learning tools to complete the analysis of which of people were likely to survive the sinking.\n",
    "\n",
    "Let's begin by importing the appropriate Python libraries and reading in the data set."
   ]
  },
  {
   "cell_type": "code",
   "execution_count": 31,
   "metadata": {
    "collapsed": false
   },
   "outputs": [],
   "source": [
    "from sklearn.model_selection import cross_val_score\n",
    "from sklearn.ensemble import RandomForestClassifier\n",
    "from sklearn.linear_model import LogisticRegression\n",
    "from sklearn.preprocessing import StandardScaler\n",
    "from sklearn.model_selection import GridSearchCV\n",
    "from collections import Counter\n",
    "from sklearn.svm import SVC\n",
    "import pandas as pd\n",
    "import numpy as np\n",
    "\n",
    "import matplotlib.pyplot as mp\n",
    "%matplotlib inline\n",
    "\n",
    "df = pd.read_csv('/Users/degrave/DataScience/Site/titanic/train.csv')"
   ]
  },
  {
   "cell_type": "markdown",
   "metadata": {},
   "source": [
    "Now let's take a look at the data column headers to see what we're working with."
   ]
  },
  {
   "cell_type": "code",
   "execution_count": 8,
   "metadata": {},
   "outputs": [
    {
     "data": {
      "text/html": [
       "<div>\n",
       "<style scoped>\n",
       "    .dataframe tbody tr th:only-of-type {\n",
       "        vertical-align: middle;\n",
       "    }\n",
       "\n",
       "    .dataframe tbody tr th {\n",
       "        vertical-align: top;\n",
       "    }\n",
       "\n",
       "    .dataframe thead th {\n",
       "        text-align: right;\n",
       "    }\n",
       "</style>\n",
       "<table border=\"1\" class=\"dataframe\">\n",
       "  <thead>\n",
       "    <tr style=\"text-align: right;\">\n",
       "      <th></th>\n",
       "      <th>PassengerId</th>\n",
       "      <th>Survived</th>\n",
       "      <th>Pclass</th>\n",
       "      <th>Name</th>\n",
       "      <th>Sex</th>\n",
       "      <th>Age</th>\n",
       "      <th>SibSp</th>\n",
       "      <th>Parch</th>\n",
       "      <th>Ticket</th>\n",
       "      <th>Fare</th>\n",
       "      <th>Cabin</th>\n",
       "      <th>Embarked</th>\n",
       "    </tr>\n",
       "  </thead>\n",
       "  <tbody>\n",
       "    <tr>\n",
       "      <th>0</th>\n",
       "      <td>1</td>\n",
       "      <td>0</td>\n",
       "      <td>3</td>\n",
       "      <td>Braund, Mr. Owen Harris</td>\n",
       "      <td>male</td>\n",
       "      <td>22.0</td>\n",
       "      <td>1</td>\n",
       "      <td>0</td>\n",
       "      <td>A/5 21171</td>\n",
       "      <td>7.2500</td>\n",
       "      <td>NaN</td>\n",
       "      <td>S</td>\n",
       "    </tr>\n",
       "    <tr>\n",
       "      <th>1</th>\n",
       "      <td>2</td>\n",
       "      <td>1</td>\n",
       "      <td>1</td>\n",
       "      <td>Cumings, Mrs. John Bradley (Florence Briggs Th...</td>\n",
       "      <td>female</td>\n",
       "      <td>38.0</td>\n",
       "      <td>1</td>\n",
       "      <td>0</td>\n",
       "      <td>PC 17599</td>\n",
       "      <td>71.2833</td>\n",
       "      <td>C85</td>\n",
       "      <td>C</td>\n",
       "    </tr>\n",
       "    <tr>\n",
       "      <th>2</th>\n",
       "      <td>3</td>\n",
       "      <td>1</td>\n",
       "      <td>3</td>\n",
       "      <td>Heikkinen, Miss. Laina</td>\n",
       "      <td>female</td>\n",
       "      <td>26.0</td>\n",
       "      <td>0</td>\n",
       "      <td>0</td>\n",
       "      <td>STON/O2. 3101282</td>\n",
       "      <td>7.9250</td>\n",
       "      <td>NaN</td>\n",
       "      <td>S</td>\n",
       "    </tr>\n",
       "    <tr>\n",
       "      <th>3</th>\n",
       "      <td>4</td>\n",
       "      <td>1</td>\n",
       "      <td>1</td>\n",
       "      <td>Futrelle, Mrs. Jacques Heath (Lily May Peel)</td>\n",
       "      <td>female</td>\n",
       "      <td>35.0</td>\n",
       "      <td>1</td>\n",
       "      <td>0</td>\n",
       "      <td>113803</td>\n",
       "      <td>53.1000</td>\n",
       "      <td>C123</td>\n",
       "      <td>S</td>\n",
       "    </tr>\n",
       "    <tr>\n",
       "      <th>4</th>\n",
       "      <td>5</td>\n",
       "      <td>0</td>\n",
       "      <td>3</td>\n",
       "      <td>Allen, Mr. William Henry</td>\n",
       "      <td>male</td>\n",
       "      <td>35.0</td>\n",
       "      <td>0</td>\n",
       "      <td>0</td>\n",
       "      <td>373450</td>\n",
       "      <td>8.0500</td>\n",
       "      <td>NaN</td>\n",
       "      <td>S</td>\n",
       "    </tr>\n",
       "  </tbody>\n",
       "</table>\n",
       "</div>"
      ],
      "text/plain": [
       "   PassengerId  Survived  Pclass  \\\n",
       "0            1         0       3   \n",
       "1            2         1       1   \n",
       "2            3         1       3   \n",
       "3            4         1       1   \n",
       "4            5         0       3   \n",
       "\n",
       "                                                Name     Sex   Age  SibSp  \\\n",
       "0                            Braund, Mr. Owen Harris    male  22.0      1   \n",
       "1  Cumings, Mrs. John Bradley (Florence Briggs Th...  female  38.0      1   \n",
       "2                             Heikkinen, Miss. Laina  female  26.0      0   \n",
       "3       Futrelle, Mrs. Jacques Heath (Lily May Peel)  female  35.0      1   \n",
       "4                           Allen, Mr. William Henry    male  35.0      0   \n",
       "\n",
       "   Parch            Ticket     Fare Cabin Embarked  \n",
       "0      0         A/5 21171   7.2500   NaN        S  \n",
       "1      0          PC 17599  71.2833   C85        C  \n",
       "2      0  STON/O2. 3101282   7.9250   NaN        S  \n",
       "3      0            113803  53.1000  C123        S  \n",
       "4      0            373450   8.0500   NaN        S  "
      ]
     },
     "execution_count": 8,
     "metadata": {},
     "output_type": "execute_result"
    }
   ],
   "source": [
    "df.head()"
   ]
  },
  {
   "cell_type": "code",
   "execution_count": null,
   "metadata": {
    "collapsed": false
   },
   "outputs": [],
   "source": [
    "df.head()\n",
    "\n",
    "    Age Cabin Embarked     Fare  \\\n",
    "0  22.0   NaN        S   7.2500   \n",
    "1  38.0   C85        C  71.2833   \n",
    "2  26.0   NaN        S   7.9250   \n",
    "3  35.0  C123        S  53.1000   \n",
    "4  35.0   NaN        S   8.0500   \n",
    "\n",
    "                                                Name  Parch  PassengerId  \\\n",
    "0                            Braund, Mr. Owen Harris      0            1   \n",
    "1  Cumings, Mrs. John Bradley (Florence Briggs Th...      0            2   \n",
    "2                             Heikkinen, Miss. Laina      0            3   \n",
    "3       Futrelle, Mrs. Jacques Heath (Lily May Peel)      0            4   \n",
    "4                           Allen, Mr. William Henry      0            5   \n",
    "\n",
    "   Pclass     Sex  SibSp  Survived            Ticket  \n",
    "0       3    male      1       0.0         A/5 21171  \n",
    "1       1  female      1       1.0          PC 17599  \n",
    "2       3  female      0       1.0  STON/O2. 3101282  \n",
    "3       1  female      1       1.0            113803  \n",
    "4       3    male      0       0.0            373450 "
   ]
  },
  {
   "cell_type": "markdown",
   "metadata": {},
   "source": [
    "The dataframe contains information regarding passenger name, age, sex, and class, among several other things. A description of each of the data columns is shown in the table below."
   ]
  },
  {
   "cell_type": "code",
   "execution_count": null,
   "metadata": {
    "collapsed": false
   },
   "outputs": [],
   "source": [
    "VARIABLE DESCRIPTIONS:\n",
    "survival        Survival (0 = No; 1 = Yes)\n",
    "pclass          Passenger Class (1 = 1st; 2 = 2nd; 3 = 3rd)\n",
    "name            Name\n",
    "sex             Sex\n",
    "age             Age\n",
    "sibsp           Number of Siblings/Spouses Aboard\n",
    "parch           Number of Parents/Children Aboard\n",
    "ticket          Ticket Number\n",
    "fare            Passenger Fare\n",
    "cabin           Cabin\n",
    "embarked        Port of Embarkation (C = Cherbourg; Q = Queenstown; S = Southampton)"
   ]
  },
  {
   "cell_type": "code",
   "execution_count": 9,
   "metadata": {},
   "outputs": [
    {
     "name": "stdout",
     "output_type": "stream",
     "text": [
      "<class 'pandas.core.frame.DataFrame'>\n",
      "RangeIndex: 891 entries, 0 to 890\n",
      "Data columns (total 12 columns):\n",
      "PassengerId    891 non-null int64\n",
      "Survived       891 non-null int64\n",
      "Pclass         891 non-null int64\n",
      "Name           891 non-null object\n",
      "Sex            891 non-null object\n",
      "Age            714 non-null float64\n",
      "SibSp          891 non-null int64\n",
      "Parch          891 non-null int64\n",
      "Ticket         891 non-null object\n",
      "Fare           891 non-null float64\n",
      "Cabin          204 non-null object\n",
      "Embarked       889 non-null object\n",
      "dtypes: float64(2), int64(5), object(5)\n",
      "memory usage: 83.6+ KB\n"
     ]
    }
   ],
   "source": [
    "df.info()"
   ]
  },
  {
   "cell_type": "markdown",
   "metadata": {},
   "source": [
    "Let's summarize the data in another way."
   ]
  },
  {
   "cell_type": "code",
   "execution_count": null,
   "metadata": {
    "collapsed": false
   },
   "outputs": [],
   "source": [
    "df.info()\n",
    "\n",
    "RangeIndex: 891 entries, 0 to 890\n",
    "Data columns (total 12 columns):\n",
    "PassengerId    891 non-null int64\n",
    "Survived       891 non-null int64\n",
    "Pclass         891 non-null int64\n",
    "Name           891 non-null object\n",
    "Sex            891 non-null object\n",
    "Age            714 non-null float64\n",
    "SibSp          891 non-null int64\n",
    "Parch          891 non-null int64\n",
    "Ticket         891 non-null object\n",
    "Fare           891 non-null float64\n",
    "Cabin          204 non-null object\n",
    "Embarked       889 non-null object\n",
    "dtypes: float64(2), int64(5), object(5)\n",
    "memory usage: 83.6+ KB"
   ]
  },
  {
   "cell_type": "markdown",
   "metadata": {},
   "source": [
    "We see that the data contian 891 rows and 12 columns. We can also see that the 'Age', 'Cabin', and 'Embarked' columns contain missing values. We will go through these in turn to try and fill them in (or remove them) as best we can. Column 'Survived' contains no missing values; after running our classifier, we'll use k-fold cross-validation to get an estimate of classificationa accuracy. Before we begin, let's first take a quick look at the overall survival rates for men and women."
   ]
  },
  {
   "cell_type": "code",
   "execution_count": 58,
   "metadata": {},
   "outputs": [
    {
     "data": {
      "text/plain": [
       "(0, 1)"
      ]
     },
     "execution_count": 58,
     "metadata": {},
     "output_type": "execute_result"
    },
    {
     "data": {
      "image/png": "[encoded data removed]",
      "text/plain": [
       "<Figure size 576x432 with 1 Axes>"
      ]
     },
     "metadata": {},
     "output_type": "display_data"
    }
   ],
   "source": [
    "xtab = pd.pivot_table(df, index='Sex', columns='Survived', aggfunc='size')\n",
    "xtab = xtab.div(xtab.sum(axis=1), axis=0)\n",
    "xtab.plot.barh(stacked=True, width=0.9, figsize=(8,6))\n",
    "\n",
    "mp.legend(loc='center left', bbox_to_anchor=(1.0, 0.5))\n",
    "mp.xlabel('Fraction of Passengers')\n",
    "mp.ylabel('Sex')\n",
    "mp.xlim(0,1)"
   ]
  },
  {
   "cell_type": "markdown",
   "metadata": {},
   "source": [
    "Females were overwhelmingly more likley to survive the sinking than were males. Approximately 75% of all females survived, while only about 20% of males did. One could probably make a reasonable prediction of survival rates simply based on gender alone! However, there is still alot of additional useful information contained in the data that we can use to improve our predictions.\n",
    "\n",
    "Next, let's take a look at the passenger class information. I remember reading at some point that survival rates were very much dependent upon which class you were in. First class passengers were likely given preferential treatment and were situated closer to the upper deck, possibly making it easier for them to quickly escape the ship. Unfortunatley, second and third class passengers were not so lucky."
   ]
  },
  {
   "cell_type": "code",
   "execution_count": 40,
   "metadata": {},
   "outputs": [
    {
     "data": {
      "text/plain": [
       "Text(0,0.5,'Number of Passengers')"
      ]
     },
     "execution_count": 40,
     "metadata": {},
     "output_type": "execute_result"
    },
    {
     "data": {
      "image/png": "[encoded data removed]",
      "text/plain": [
       "<Figure size 576x432 with 1 Axes>"
      ]
     },
     "metadata": {},
     "output_type": "display_data"
    }
   ],
   "source": [
    "df['Pclass'].value_counts().plot.bar(width=0.9, rot=0, figsize=(8,6))\n",
    "\n",
    "mp.xlabel('Class')\n",
    "mp.ylabel('Number of Passengers')"
   ]
  },
  {
   "cell_type": "markdown",
   "metadata": {},
   "source": [
    "The majority of individuals aboard Titanic were third class passengers. Let's see if passenger class played a role in survival."
   ]
  },
  {
   "cell_type": "code",
   "execution_count": 53,
   "metadata": {
    "collapsed": false
   },
   "outputs": [
    {
     "data": {
      "text/plain": [
       "(0, 1)"
      ]
     },
     "execution_count": 53,
     "metadata": {},
     "output_type": "execute_result"
    },
    {
     "data": {
      "image/png": "[encoded data removed]",
      "text/plain": [
       "<Figure size 576x432 with 1 Axes>"
      ]
     },
     "metadata": {},
     "output_type": "display_data"
    }
   ],
   "source": [
    "xtab = pd.pivot_table(df, index=['Sex','Pclass'], columns='Survived', aggfunc='size')\n",
    "xtab = xtab.div(xtab.sum(axis=1), axis=0)\n",
    "xtab.plot.barh(stacked=True, width=0.9, figsize=(8,6))\n",
    "\n",
    "mp.legend(loc='center left', bbox_to_anchor=(1.0, 0.5))\n",
    "mp.xlabel('Fraction of Passengers')\n",
    "mp.ylabel('Sex, Class')\n",
    "mp.xlim(0,1)"
   ]
  },
  {
   "cell_type": "markdown",
   "metadata": {},
   "source": [
    "There does indeed appear to be a correlation between passenger class and survival rate for both males and females. In all, roughly 60% of first class passengers survived, with survival rates decreasing significantly for each subsequent class.\n",
    "\n",
    "Next, let's take a look at the distribution of passengers among the various ports of departure."
   ]
  },
  {
   "cell_type": "code",
   "execution_count": 54,
   "metadata": {
    "collapsed": false
   },
   "outputs": [
    {
     "data": {
      "text/plain": [
       "Text(0,0.5,'Number of Passengers')"
      ]
     },
     "execution_count": 54,
     "metadata": {},
     "output_type": "execute_result"
    },
    {
     "data": {
      "image/png": "[encoded data removed]",
      "text/plain": [
       "<Figure size 576x432 with 1 Axes>"
      ]
     },
     "metadata": {},
     "output_type": "display_data"
    }
   ],
   "source": [
    "df['Embarked'].value_counts().plot.bar(width=0.9, rot=0, figsize=(8,6))\n",
    "\n",
    "mp.xlabel('Port of Departure')\n",
    "mp.ylabel('Number of Passengers')"
   ]
  },
  {
   "cell_type": "markdown",
   "metadata": {},
   "source": [
    "The overwhelming majority of passengers departed from the Southampton port. Let's see if there is a relationship between port of departure and survival rate. Naively, I would hazard a guess that the relationship, if any exists, is very small. After all, why would the fate of, for example, a second class male passenger embarking from Queenstown (listed as 'Q' in the Embarked column) differ from one embarking from Southampton (listed as 'S' in the Embarked column)?"
   ]
  },
  {
   "cell_type": "code",
   "execution_count": 59,
   "metadata": {
    "collapsed": false
   },
   "outputs": [
    {
     "data": {
      "text/plain": [
       "(0, 1)"
      ]
     },
     "execution_count": 59,
     "metadata": {},
     "output_type": "execute_result"
    },
    {
     "data": {
      "image/png": "[encoded data removed]",
      "text/plain": [
       "<Figure size 576x432 with 1 Axes>"
      ]
     },
     "metadata": {},
     "output_type": "display_data"
    }
   ],
   "source": [
    "xtab = pd.pivot_table(df, index=['Sex','Embarked'], columns='Survived', aggfunc='size')\n",
    "xtab = xtab.div(xtab.sum(axis=1), axis=0)\n",
    "xtab.plot.barh(stacked=True, width=0.9, figsize=(8,6))\n",
    "\n",
    "mp.legend(loc='center left', bbox_to_anchor=(1.0, 0.5))\n",
    "mp.xlabel('Fraction of Passengers')\n",
    "mp.ylabel('Sex, Port of Departure')\n",
    "mp.xlim(0, 1)"
   ]
  },
  {
   "cell_type": "markdown",
   "metadata": {},
   "source": [
    "I'm a bit surprised that the effect is so large. Maybe there's more to this than meets the eye. It's likely that this effect is not due simply to geographic location in itself. Perhaps certain ports are located in places where passenger wealth levels were very different? For example, significantly more passengers embarking from Cherbourg survived than did those embarking from port Southampton. Perhaps more wealthy individuals (i.e. first class passengers) boarded at Cherbourg, while a larger fraction of poorer individuals (i.e., second and third class passengers) boarded at Southampton and Queenstown. In other words, the effect we're seeing may simply be a reflection of passenger class, among other things. Let's take a look!"
   ]
  },
  {
   "cell_type": "code",
   "execution_count": 62,
   "metadata": {
    "collapsed": false
   },
   "outputs": [
    {
     "data": {
      "text/plain": [
       "(0, 1)"
      ]
     },
     "execution_count": 62,
     "metadata": {},
     "output_type": "execute_result"
    },
    {
     "data": {
      "image/png": "[encoded data removed]",
      "text/plain": [
       "<Figure size 576x432 with 1 Axes>"
      ]
     },
     "metadata": {},
     "output_type": "display_data"
    }
   ],
   "source": [
    "xtab = pd.pivot_table(df, index=['Embarked'], columns='Pclass', aggfunc='size')\n",
    "xtab = xtab.div(xtab.sum(axis=1), axis=0)\n",
    "xtab.plot.barh(stacked=True, width=0.9, figsize=(8,6))\n",
    "\n",
    "mp.legend(loc='center left', bbox_to_anchor=(1.0, 0.5))\n",
    "mp.xlabel('Fraction of People')\n",
    "mp.ylabel('Port of Departure')\n",
    "mp.xlim(0,1)"
   ]
  },
  {
   "cell_type": "markdown",
   "metadata": {},
   "source": [
    "Our hypothesis was correct in that port of departure and passenger class seem to be related. Individuals embarking from Cherbourg port were largely first class passengers, while the majority of those embarking from Queenstown and Southampton were second and third class passengers. This may explain the previous figure suggesting Cherbourg passengers had better survival rates. However, passengers embarking from Queenstown had overall survival rates that were higher than Southampton even though more third class passengers boarded there, which is a bit surprising. Maybe there is some additional factor at play?\n",
    "\n",
    "As we saw earlier, there are only a couple of missing values in the 'Embarked' column. Since the vast majority of passengers departed from Southampton, we'll fill in the missing values with this location."
   ]
  },
  {
   "cell_type": "markdown",
   "metadata": {},
   "source": [
    "We also have information available regarding passenger ticket fares. Let's take a look at the distribution of these values."
   ]
  },
  {
   "cell_type": "code",
   "execution_count": 117,
   "metadata": {
    "collapsed": false
   },
   "outputs": [
    {
     "data": {
      "text/plain": [
       "Text(0.5,0.98,'')"
      ]
     },
     "execution_count": 117,
     "metadata": {},
     "output_type": "execute_result"
    },
    {
     "data": {
      "image/png": "[encoded data removed]",
      "text/plain": [
       "<Figure size 1152x432 with 2 Axes>"
      ]
     },
     "metadata": {},
     "output_type": "display_data"
    }
   ],
   "source": [
    "fig, axes = mp.subplots(nrows=1, ncols=2, figsize=(16,6))\n",
    "\n",
    "ax = df['Fare'].dropna().hist(bins=30, grid=False, ax=axes[0])\n",
    "ax.set_xlabel('Fare [dollars]')\n",
    "ax.set_ylabel('Number of Passengers')\n",
    "\n",
    "ax = df.boxplot(by='Pclass', column='Fare', grid=False, widths=(0.8, 0.8, 0.8), ax=axes[1])\n",
    "ax.set_xlabel('Passenger Class')\n",
    "ax.set_ylabel('Fare [dollars]')\n",
    "ax.set_ylim([-1,600])\n",
    "ax.set_title('')\n",
    "fig.suptitle('')"
   ]
  },
  {
   "cell_type": "markdown",
   "metadata": {},
   "source": [
    "The lefthand figure above shows a histogram of fare values for all passengers. It looks like the vast majority of people paid fares that were less than about $25, but there is considerable spread in the data. It seems reasonable to guess that first class passengers paid fares that were higher on average than those passengers lodging in second or third class cabins. The righthand figure above shows boxplots of fare values for passengers in each class. Ticket fares for second and third class passengers were in fact quite a bit lower than for individuals in the first class. Since the fare column only has one missing value, let's fill it in with the median fare value of all third class pasengers."
   ]
  },
  {
   "cell_type": "code",
   "execution_count": 108,
   "metadata": {
    "collapsed": false
   },
   "outputs": [],
   "source": [
    "df['Fare'] = df['Fare'].fillna(df.loc[df['Pclass'] == 3, 'Fare'].median())"
   ]
  },
  {
   "cell_type": "markdown",
   "metadata": {},
   "source": [
    "Lastly, of the 891 passengers in our data, there are 177 missing ages. Let's take a look at the distribution of values in the 'Age' column."
   ]
  },
  {
   "cell_type": "code",
   "execution_count": 118,
   "metadata": {
    "collapsed": false
   },
   "outputs": [
    {
     "data": {
      "text/plain": [
       "Text(0.5,0.98,'')"
      ]
     },
     "execution_count": 118,
     "metadata": {},
     "output_type": "execute_result"
    },
    {
     "data": {
      "image/png": "[encoded data removed]",
      "text/plain": [
       "<Figure size 1152x432 with 2 Axes>"
      ]
     },
     "metadata": {},
     "output_type": "display_data"
    }
   ],
   "source": [
    "fig, axes = mp.subplots(nrows=1, ncols=2, figsize=(16,6))\n",
    "\n",
    "ax = df['Age'].dropna().hist(bins=30, grid=False, ax=axes[0])\n",
    "ax.set_xlabel('Age [years]')\n",
    "ax.set_ylabel('Number of Passengers')\n",
    "\n",
    "ax = df.boxplot(by='Pclass', column='Age', grid=False, widths=(0.8, 0.8, 0.8), ax=axes[1])\n",
    "ax.set_xlabel('Passenger Class')\n",
    "ax.set_ylabel('Age [years]')\n",
    "ax.set_ylim([-1,90])\n",
    "ax.set_title('')\n",
    "fig.suptitle('')"
   ]
  },
  {
   "cell_type": "markdown",
   "metadata": {},
   "source": [
    "The lefthand figure above shows a histogram of all available age values in our data. The majority of individuals were between about 20 and 40 years of age, though the tail of the distribution extends to much higher values. The righthand figure above shows the distribution of ages between the three passenger classes. There is a clear difference in median age between the classes, with first class passengers being older on average than second or third class passengers. This makes sense in the sense that first class passengers were wealthier on average, and a great deal of wealth may take several years to acquire.\n",
    "\n",
    "Rather than simply filling in missing age values with the population median or mean, we can do something a little bit better. Let's fill in the missing values by class."
   ]
  },
  {
   "cell_type": "code",
   "execution_count": 119,
   "metadata": {
    "collapsed": false
   },
   "outputs": [],
   "source": [
    "def fillage(cols):\n",
    "    Age = cols[0]\n",
    "    Pclass = cols[1]\n",
    "\n",
    "    if pd.isnull(Age):\n",
    "        if Pclass==1:\n",
    "            return df.loc[df['Pclass'] == 1, 'Age'].median()\n",
    "        elif Pclass==2:\n",
    "            return df.loc[df['Pclass'] == 2, 'Age'].median()\n",
    "        elif Pclass==3:\n",
    "            return df.loc[df['Pclass'] == 3, 'Age'].median()\n",
    "    else:\n",
    "        return Age\n",
    "\n",
    "df['Age'] = df[['Age','Pclass']].apply(fillage, axis=1)\n",
    "\n",
    "df['AgeClass'] = df['Age']\n",
    "df.loc[(df['Age'] > 0)  & (df['Age'] <= 10), 'AgeClass'] = '0 - 10 years'\n",
    "df.loc[(df['Age'] > 10) & (df['Age'] <= 20), 'AgeClass'] = '10 - 20 years'\n",
    "df.loc[(df['Age'] > 20) & (df['Age'] <= 40), 'AgeClass'] = '20 - 40 years'\n",
    "df.loc[(df['Age'] > 40) & (df['Age'] <= 60), 'AgeClass'] = '40 - 60 years'\n",
    "df.loc[(df['Age'] > 60), 'AgeClass']                     = '> 60 years'"
   ]
  },
  {
   "cell_type": "code",
   "execution_count": 123,
   "metadata": {},
   "outputs": [
    {
     "data": {
      "text/plain": [
       "(0, 1)"
      ]
     },
     "execution_count": 123,
     "metadata": {},
     "output_type": "execute_result"
    },
    {
     "data": {
      "image/png": "[encoded data removed]",
      "text/plain": [
       "<Figure size 576x432 with 1 Axes>"
      ]
     },
     "metadata": {},
     "output_type": "display_data"
    }
   ],
   "source": [
    "xtab = pd.pivot_table(df, index=['Sex','AgeClass'], columns='Survived', aggfunc='size')\n",
    "xtab = xtab.div(xtab.sum(axis=1), axis=0)\n",
    "xtab.plot.barh(stacked=True, width=0.9, figsize=(8,6))\n",
    "\n",
    "mp.legend(loc='center left', bbox_to_anchor=(1.0, 0.5))\n",
    "mp.xlabel('Fraction of Passengers')\n",
    "mp.ylabel('Sex, Ages')\n",
    "mp.xlim(0,1)"
   ]
  },
  {
   "cell_type": "markdown",
   "metadata": {},
   "source": [
    "There is some relationship betwee age and survival rate for both men and women. Males in the 0-10 year age range (i.e., children) were much more likely to survive than any other age group. Males above about 10 years of age were almost equally unlucky in terms of survival. Interestingly, female survival rate increased with age. Females in the 0-10 year age range were less likely to survive than older females, and all females above 60 years of age survived the sinking.\n",
    "\n",
    "It's possible that we can improve the performance of our classifier if we do a little bit of feature engineering here. The 'Name' column contains titles such as Mr., Master, Miss, etc. Perhaps we can gather some useful survival information by separating out these titles and making them a separate feature."
   ]
  },
  {
   "cell_type": "code",
   "execution_count": 126,
   "metadata": {
    "collapsed": false
   },
   "outputs": [],
   "source": [
    "df['Title'] = df['Name'].apply(lambda x: x.split(',')[1].split('.')[0].strip())"
   ]
  },
  {
   "cell_type": "markdown",
   "metadata": {},
   "source": [
    "We can also create a new feature which takes into account total family size. This is the sum of the Parch (number of parents or children an individual has with them on the ship) and SibSp (the number of siblings or spouses an individual has with them) columns. It seems possible that those with larger families were less likely to survive, as it was probably difficult to wrangle everyone together in the chaos of the sinking."
   ]
  },
  {
   "cell_type": "code",
   "execution_count": 127,
   "metadata": {
    "collapsed": true
   },
   "outputs": [],
   "source": [
    "df['FamSize'] = df['Parch'] + df['SibSp']"
   ]
  },
  {
   "cell_type": "markdown",
   "metadata": {},
   "source": [
    "Now that we have explored the data a little bit, we need to first encode our categorical features before we start making predictions. Encoding simply means we convert the strings in these columns to numerical values. Below, we convert the strings to dummy variables using the Pandas get_dummies command."
   ]
  },
  {
   "cell_type": "code",
   "execution_count": 128,
   "metadata": {
    "collapsed": false
   },
   "outputs": [],
   "source": [
    "sex      = pd.get_dummies(df['Sex'], drop_first=True)\n",
    "embarked = pd.get_dummies(df['Embarked'], drop_first=True)\n",
    "parch    = pd.get_dummies(df['Parch'], drop_first=True)\n",
    "title    = pd.get_dummies(df['Title'], drop_first=True)\n",
    "ageclass = pd.get_dummies(df['AgeClass'], drop_first=True)\n",
    "famsize  = pd.get_dummies(df['FamSize'], drop_first=True)\n",
    "\n",
    "df = pd.concat([df,sex,embarked,parch,title,ageclass,famsize], axis=1)\n",
    "df.drop(['Sex','Embarked','Parch','Title','AgeClass','FamSize','Name'], axis=1, inplace=True)"
   ]
  },
  {
   "cell_type": "markdown",
   "metadata": {},
   "source": [
    "One will note that the 'Cabin' column still contains 687 missing values that we have not bothered to fill in. Since there are so many, trying to fill them in accurately may simply result in noise being added to the problem, thereby hindering our classification performance rather than helping it. To this end, I'll elect to drop the 'Cabin' column altogether. Also, the 'Ticket' column has a rather complicated format, and so we will drop this column as well rather than struggling to gain useful information from it."
   ]
  },
  {
   "cell_type": "code",
   "execution_count": 129,
   "metadata": {
    "collapsed": false
   },
   "outputs": [],
   "source": [
    "df.drop(['Cabin','Ticket'], axis=1, inplace=True);"
   ]
  },
  {
   "cell_type": "markdown",
   "metadata": {},
   "source": [
    "We can now define the response (i.e., the target) and the feature arrays. It is also good practice to scale the feature data take on a similar range of values. This can be done easily using the StandardScaler function."
   ]
  },
  {
   "cell_type": "code",
   "execution_count": 130,
   "metadata": {
    "collapsed": false
   },
   "outputs": [],
   "source": [
    "sc = StandardScaler()\n",
    "\n",
    "y = df['Survived']\n",
    "X = df.drop(['Survived','PassengerId'], axis=1)\n",
    "\n",
    "X = sc.fit_transform(X)"
   ]
  },
  {
   "cell_type": "markdown",
   "metadata": {},
   "source": [
    "We'll try two different approaches here - logistic regression and random forests."
   ]
  },
  {
   "cell_type": "code",
   "execution_count": 139,
   "metadata": {},
   "outputs": [
    {
     "name": "stdout",
     "output_type": "stream",
     "text": [
      "Logistic Regression (0.82, 0.03)\n",
      "Random Forest (0.81, 0.04)\n"
     ]
    }
   ],
   "source": [
    "models = {'Logistic Regression': LogisticRegression(C=1), 'Random Forest': RandomForestClassifier(n_estimators=250)}\n",
    "\n",
    "for i in models.keys():\n",
    "    scores = []\n",
    "    scores = cross_val_score(models[i], X, y, cv=10)\n",
    "    mn = np.round(np.mean(scores), 2)\n",
    "    st = np.round(np.std(scores), 2)\n",
    "    print(i, (mn, st))"
   ]
  },
  {
   "cell_type": "markdown",
   "metadata": {},
   "source": [
    "It looks like both models perform very similarly in a head-to-head 10-fold cross-validation test. We'll go ahead and use a random forest model to perform the necessary final classification. Of the various tunable random forest parameters, two of the most important are the number of trees in the forest and the maximum depth of the trees. We can try and find optimal values for these parameters by using Scikit-Learn's GridSearchCV function. We will try three n_estimator (number of trees in the forest) values, and three max_depth (depth of the trees) values."
   ]
  },
  {
   "cell_type": "code",
   "execution_count": 142,
   "metadata": {
    "collapsed": false,
    "scrolled": true
   },
   "outputs": [
    {
     "data": {
      "text/plain": [
       "{'max_depth': 5, 'n_estimators': 250}"
      ]
     },
     "execution_count": 142,
     "metadata": {},
     "output_type": "execute_result"
    }
   ],
   "source": [
    "params = {'n_estimators': [200,250,300,350], 'max_depth': [3,5,7]}\n",
    "\n",
    "grid = GridSearchCV(RandomForestClassifier(criterion='gini'), params, cv=5, scoring='accuracy')\n",
    "\n",
    "grid.fit(X, y)\n",
    "grid.best_params_"
   ]
  },
  {
   "cell_type": "markdown",
   "metadata": {},
   "source": [
    "The grid search results in values of 250 and 5 for parameters n_estimators and max_depth respectively."
   ]
  },
  {
   "cell_type": "code",
   "execution_count": 151,
   "metadata": {
    "collapsed": false
   },
   "outputs": [
    {
     "name": "stdout",
     "output_type": "stream",
     "text": [
      "0.83\n"
     ]
    }
   ],
   "source": [
    "model = RandomForestClassifier(criterion='gini', n_estimators=250, max_depth=5)\n",
    "\n",
    "scores = cross_val_score(model, X, y, cv=10)\n",
    "print(np.round(np.mean(scores), 2))"
   ]
  },
  {
   "cell_type": "markdown",
   "metadata": {},
   "source": [
    "Cross-validation suggests that we correctly predict survival about 83% of the time! Not too bad. Scikit-Learn's RandomForestClassifier allows us to examine the most important features used in predicting survival rates. Let's see what the top ten features are."
   ]
  },
  {
   "cell_type": "code",
   "execution_count": 166,
   "metadata": {},
   "outputs": [],
   "source": [
    "n = pd.DataFrame()\n",
    "\n",
    "n['x'] = feat_labels[indices[:ncomp]]\n",
    "n['y'] = importances[indices[:ncomp]]"
   ]
  },
  {
   "cell_type": "code",
   "execution_count": 171,
   "metadata": {
    "collapsed": false
   },
   "outputs": [
    {
     "data": {
      "text/plain": [
       "Text(0.5,0,'')"
      ]
     },
     "execution_count": 171,
     "metadata": {},
     "output_type": "execute_result"
    },
    {
     "data": {
      "image/png": "[encoded data removed]",
      "text/plain": [
       "<Figure size 576x432 with 1 Axes>"
      ]
     },
     "metadata": {},
     "output_type": "display_data"
    }
   ],
   "source": [
    "feat_labels = df.drop(['PassengerId','Survived'], axis=1).columns\n",
    "importances = model.feature_importances_\n",
    "indices = np.argsort(importances)[::-1]\n",
    "\n",
    "ncomp = 10\n",
    "\n",
    "n.plot.bar(x='x', width=0.9, legend=False, figsize=(8,6))\n",
    "mp.title('Top 10 Feature Importances')\n",
    "mp.ylabel('Relative Feature Importance')\n",
    "mp.xticks(rotation=90)\n",
    "mp.xlabel('')"
   ]
  },
  {
   "cell_type": "markdown",
   "metadata": {},
   "source": [
    "Looking at the plot of feature importance, it looks like sex, fare, and passenger class, along with various titles (for example, 'Mr', 'Miss', etc.) were far and away the most significant indicators of whether or not an individual survived the sinking. Perhaps a bit surprisingly, port of departure played a relatively small role overall.\n",
    "\n",
    "Well, that's all for now. Thanks for following along!"
   ]
  }
 ],
 "metadata": {
  "anaconda-cloud": {},
  "kernelspec": {
   "display_name": "Python 3",
   "language": "python",
   "name": "python3"
  },
  "language_info": {
   "codemirror_mode": {
    "name": "ipython",
    "version": 3
   },
   "file_extension": ".py",
   "mimetype": "text/x-python",
   "name": "python",
   "nbconvert_exporter": "python",
   "pygments_lexer": "ipython3",
   "version": "3.6.5"
  }
 },
 "nbformat": 4,
 "nbformat_minor": 2
}
