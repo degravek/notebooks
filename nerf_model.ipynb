{
 "cells": [
  {
   "cell_type": "code",
   "execution_count": 31,
   "metadata": {
    "collapsed": true
   },
   "outputs": [],
   "source": [
    "from sklearn.feature_extraction.text import TfidfVectorizer\n",
    "from sklearn.feature_extraction.text import CountVectorizer\n",
    "from sklearn.base import BaseEstimator, TransformerMixin\n",
    "from sklearn.calibration import CalibratedClassifierCV\n",
    "from sklearn.model_selection import RandomizedSearchCV\n",
    "from sklearn.model_selection import train_test_split\n",
    "from sklearn.pipeline import Pipeline, FeatureUnion\n",
    "from sklearn.linear_model import LogisticRegression\n",
    "from sklearn.metrics import classification_report\n",
    "from sklearn.linear_model import SGDClassifier\n",
    "from sklearn.preprocessing import StandardScaler\n",
    "from sklearn.model_selection import GridSearchCV\n",
    "from sklearn.metrics import confusion_matrix\n",
    "from sklearn.metrics import accuracy_score\n",
    "from sklearn.metrics import log_loss\n",
    "from sklearn.externals import joblib\n",
    "from nltk.corpus import stopwords\n",
    "from scipy import sparse\n",
    "import seaborn as sns\n",
    "import pandas as pd\n",
    "import numpy as np\n",
    "import string\n",
    "import pickle\n",
    "import emoji\n",
    "import nltk\n",
    "import re\n",
    "\n",
    "from collections import Counter\n",
    "import seaborn as sns\n",
    "import pandas as pd\n",
    "import numpy as np\n",
    "import re\n",
    "\n",
    "import matplotlib.pyplot as mp\n",
    "%matplotlib inline\n",
    "\n",
    "#https://www.kaggle.com/tmjiang/stats"
   ]
  },
  {
   "attachments": {},
   "cell_type": "markdown",
   "metadata": {},
   "source": [
    "* Named entity recognition: Identify named \"things\" (entities) in text.\n",
    "\n",
    "<img src=\"https://github.com/degravek/notebooks/blob/master/LLfigs/download.png?raw=True\" width=\"500\">\n",
    "\n",
    "* The entities depend on the context (e.g., for yelp they might be food type, price, ambience, etc.).\n",
    "* Real-world texts contain capitalization and context (part of speech) to identify entities.\n",
    "* Goal is to identify entities in short website search queries to make search more focused."
   ]
  },
  {
   "cell_type": "markdown",
   "metadata": {},
   "source": [
    "# Get specialties, conditions, procedures"
   ]
  },
  {
   "cell_type": "code",
   "execution_count": 32,
   "metadata": {
    "collapsed": true
   },
   "outputs": [],
   "source": [
    "# Data from tables in Healthmaster, stack them all into one dataframe\n",
    "df_spec = pd.read_csv('/Users/degrave/Healthgrades/search/data/production/new/new_specialty_gazette_cleaned.csv', encoding='ISO-8859-1')\n",
    "df_cond = pd.read_csv('/Users/degrave/Healthgrades/search/data/production/new/new_condition_gazette_cleaned.csv', encoding='ISO-8859-1')\n",
    "df_proc = pd.read_csv('/Users/degrave/Healthgrades/search/data/production/new/new_procedure_gazette_cleaned.csv', encoding='ISO-8859-1')\n",
    "df_prov = pd.read_csv('/Users/degrave/Healthgrades/search/data/production/new/new_provider_gazette_cleaned.csv', encoding='ISO-8859-1')\n",
    "df_faci = pd.read_csv('/Users/degrave/Healthgrades/search/data/production/new/new_facility_gazette_cleaned.csv', encoding='ISO-8859-1')\n",
    "\n",
    "df_spec['target'] = 'specialty'\n",
    "df_cond['target'] = 'condition'\n",
    "df_proc['target'] = 'procedure'\n",
    "df_prov['target'] = 'provider'\n",
    "df_faci['target'] = 'facility'\n",
    "\n",
    "df_prov = df_prov.sample(n=15000, random_state=0)\n",
    "df_faci = df_faci.sample(n=15000, random_state=0)\n",
    "\n",
    "df_spec.columns = ['Query', 'target']\n",
    "df_cond.columns = ['Query', 'target']\n",
    "df_proc.columns = ['Query', 'target']\n",
    "df_prov.columns = ['Query', 'target']\n",
    "df_faci.columns = ['Query', 'target']"
   ]
  },
  {
   "cell_type": "code",
   "execution_count": 33,
   "metadata": {
    "collapsed": true
   },
   "outputs": [],
   "source": [
    "df_spec.dropna(inplace=True)\n",
    "df_spec.drop_duplicates(inplace=True)\n",
    "df_spec.reset_index(drop=True, inplace=True)\n",
    "\n",
    "df_cond.dropna(inplace=True)\n",
    "df_cond.drop_duplicates(inplace=True)\n",
    "df_cond.reset_index(drop=True, inplace=True)\n",
    "\n",
    "df_proc.dropna(inplace=True)\n",
    "df_proc.drop_duplicates(inplace=True)\n",
    "df_proc.reset_index(drop=True, inplace=True)\n",
    "\n",
    "df_prov.dropna(inplace=True)\n",
    "df_prov.drop_duplicates(inplace=True)\n",
    "df_prov.reset_index(drop=True, inplace=True)\n",
    "\n",
    "df_faci.dropna(inplace=True)\n",
    "df_faci.drop_duplicates(inplace=True)\n",
    "df_faci.reset_index(drop=True, inplace=True)"
   ]
  },
  {
   "cell_type": "code",
   "execution_count": 34,
   "metadata": {
    "collapsed": true
   },
   "outputs": [],
   "source": [
    "# Encode the target variable\n",
    "from sklearn.preprocessing import LabelEncoder\n",
    "\n",
    "df = pd.concat([df_spec, df_cond, df_proc, df_prov, df_faci])\n",
    "\n",
    "enc = LabelEncoder()\n",
    "\n",
    "df['target'] = enc.fit_transform(df['target'])"
   ]
  },
  {
   "cell_type": "code",
   "execution_count": 10,
   "metadata": {},
   "outputs": [
    {
     "data": {
      "text/html": [
       "<div>\n",
       "<style scoped>\n",
       "    .dataframe tbody tr th:only-of-type {\n",
       "        vertical-align: middle;\n",
       "    }\n",
       "\n",
       "    .dataframe tbody tr th {\n",
       "        vertical-align: top;\n",
       "    }\n",
       "\n",
       "    .dataframe thead th {\n",
       "        text-align: right;\n",
       "    }\n",
       "</style>\n",
       "<table border=\"1\" class=\"dataframe\">\n",
       "  <thead>\n",
       "    <tr style=\"text-align: right;\">\n",
       "      <th></th>\n",
       "      <th>Query</th>\n",
       "      <th>target</th>\n",
       "    </tr>\n",
       "  </thead>\n",
       "  <tbody>\n",
       "    <tr>\n",
       "      <th>7075</th>\n",
       "      <td>john richard schneider</td>\n",
       "      <td>3</td>\n",
       "    </tr>\n",
       "    <tr>\n",
       "      <th>6215</th>\n",
       "      <td>emergency obstetrics specialists doctor</td>\n",
       "      <td>4</td>\n",
       "    </tr>\n",
       "    <tr>\n",
       "      <th>6149</th>\n",
       "      <td>catalina armas bajwa</td>\n",
       "      <td>3</td>\n",
       "    </tr>\n",
       "    <tr>\n",
       "      <th>14453</th>\n",
       "      <td>david william hellerud</td>\n",
       "      <td>3</td>\n",
       "    </tr>\n",
       "    <tr>\n",
       "      <th>2805</th>\n",
       "      <td>hydrotherapy</td>\n",
       "      <td>2</td>\n",
       "    </tr>\n",
       "  </tbody>\n",
       "</table>\n",
       "</div>"
      ],
      "text/plain": [
       "                                         Query  target\n",
       "7075                    john richard schneider       3\n",
       "6215   emergency obstetrics specialists doctor       4\n",
       "6149                      catalina armas bajwa       3\n",
       "14453                   david william hellerud       3\n",
       "2805                              hydrotherapy       2"
      ]
     },
     "execution_count": 10,
     "metadata": {},
     "output_type": "execute_result"
    }
   ],
   "source": [
    "df.sample(n=100).head()"
   ]
  },
  {
   "cell_type": "code",
   "execution_count": 54,
   "metadata": {},
   "outputs": [
    {
     "data": {
      "image/png": "[encoded data removed]",
      "text/plain": [
       "<matplotlib.figure.Figure at 0x1110eb6a0>"
      ]
     },
     "metadata": {},
     "output_type": "display_data"
    }
   ],
   "source": [
    "ax = df.groupby('target').count().reset_index().plot.bar(x='target', width=0.9, rot=0, legend=False)\n",
    "ax.set_xticklabels(enc.classes_)\n",
    "ax.set_facecolor('w')\n",
    "ax.yaxis.grid(color=[0.9,0.9,0.9])\n",
    "mp.ylim(0,16000)\n",
    "mp.ylabel(\"Counts\")\n",
    "mp.xlabel(\"\")\n",
    "mp.show()"
   ]
  },
  {
   "cell_type": "markdown",
   "metadata": {},
   "source": [
    "* Number of punctuation\n",
    "* Number of characters (facilities are longer)\n",
    "* Does query contain numbers?\n",
    "* Average length of words in query\n",
    "* Remove stop words\n",
    "* Clean the text to remove punctuation"
   ]
  },
  {
   "cell_type": "code",
   "execution_count": 11,
   "metadata": {
    "collapsed": true
   },
   "outputs": [],
   "source": [
    "from nltk.corpus import stopwords\n",
    "\n",
    "punctuation = '!\"#?$%“”\\'()’*+,—./:-;<=>@[\\\\]^_`{|}~…'\n",
    "def numPunc(text):\n",
    "    result = len([i for i in text if i in punctuation])\n",
    "    return result\n",
    "\n",
    "def numChars(text):\n",
    "    result = len(text)\n",
    "    return result\n",
    "\n",
    "def minLength(text):\n",
    "    r = ''.join([i for i in text if i not\n",
    "                             in punctuation])\n",
    "    result = min([len(i) for i in r.split()])\n",
    "    return result\n",
    "\n",
    "def maxLength(text):\n",
    "    r = ''.join([i for i in text if i not\n",
    "                             in punctuation])\n",
    "    result = max([len(i) for i in r.split()])\n",
    "    return result\n",
    "\n",
    "def partSpeech(text):\n",
    "    s = text.lower().split()\n",
    "    pos = [part[1] for part in nltk.pos_tag(s)]\n",
    "    pos = ' '.join(pos)\n",
    "    return pos\n",
    "\n",
    "def cleanText(text):\n",
    "    result = text.lower().strip()\n",
    "    result = re.sub(r'[^\\x00-\\x7F]+', ' ', result)\n",
    "    result = re.sub('[\\W]+', ' ', result)\n",
    "    result = re.sub(r' +', ' ', result).strip()\n",
    "    return result\n",
    "\n",
    "def numNum(text):\n",
    "    text = text.split()\n",
    "    result = sum(i.isdigit() for i in text)\n",
    "    return result\n",
    "\n",
    "def contNum(text):\n",
    "    text = text.split()\n",
    "    result = sum(i.isdigit() for i in text)\n",
    "    if result == 0: return 0\n",
    "    else: return 1\n",
    "\n",
    "def numTerms(text):\n",
    "    result = len(text.split())\n",
    "    return result\n",
    "\n",
    "def avgLength(text):\n",
    "    r = text.translate(str.maketrans('', '', string.punctuation))\n",
    "    result = np.mean([len(i) for i in r.split()])\n",
    "    return result\n",
    "\n",
    "class ItemSelector(BaseEstimator, TransformerMixin):\n",
    "    def __init__(self, key):\n",
    "        self.key = key\n",
    "\n",
    "    def fit(self, x, y=None):\n",
    "        return self\n",
    "\n",
    "    def transform(self, data_dict):        return data_dict[self.key]"
   ]
  },
  {
   "cell_type": "code",
   "execution_count": 163,
   "metadata": {
    "collapsed": true
   },
   "outputs": [],
   "source": [
    "# Clean the text\n",
    "df['Query'] = df['Query'].apply(cleanText)"
   ]
  },
  {
   "cell_type": "code",
   "execution_count": 12,
   "metadata": {
    "collapsed": true
   },
   "outputs": [],
   "source": [
    "# Split into training and test sets\n",
    "df_train, df_test = train_test_split(df, test_size=0.2, random_state=0)"
   ]
  },
  {
   "attachments": {},
   "cell_type": "markdown",
   "metadata": {},
   "source": [
    "<img src=\"https://github.com/degravek/notebooks/blob/master/LLfigs/download-1.png?raw=True\" width=\"500\">"
   ]
  },
  {
   "cell_type": "code",
   "execution_count": null,
   "metadata": {
    "scrolled": true
   },
   "outputs": [],
   "source": [
    "# Find best set of tuning parameters to use in classifier\n",
    "param_grid = [{'tvec__ngram_range': [(1,2), (1,3), (1,5), (2,5), (3,5)],\n",
    "               'tvec__use_idf': [True, False],\n",
    "               'tvec__norm': ['l2', None],\n",
    "               'tvec__sublinear_tf': [True, False],\n",
    "               'clf__C': [0.1, 1, 10]}]\n",
    "\n",
    "sc = StandardScaler()\n",
    "\n",
    "#val_names = df.drop(['Query','target'], axis=1).columns\n",
    "\n",
    "tvec = TfidfVectorizer(analyzer='char', stop_words=None, max_features=50000)\n",
    "\n",
    "pipeline = Pipeline([\n",
    "    ('tvec', tvec),\n",
    "    ('clf', LogisticRegression())\n",
    "])\n",
    "\n",
    "grid_cv = GridSearchCV(pipeline, param_grid=param_grid, scoring='neg_log_loss', cv=5, n_jobs=-1, verbose=5)\n",
    "\n",
    "grid_cv.fit(df_train['Query'], df_train['target'])\n",
    "\n",
    "print(grid_cv.best_params_)\n",
    "print(grid_cv.best_score_)\n",
    "\n",
    "#{'clf__C': 1, 'tvec__ngram_range': (1, 5), 'tvec__norm': None, 'tvec__sublinear_tf': True, 'tvec__use_idf': False}\n",
    "#-0.11718495646692882"
   ]
  },
  {
   "attachments": {},
   "cell_type": "markdown",
   "metadata": {},
   "source": [
    "<img src=\"https://github.com/degravek/notebooks/blob/master/LLfigs/download-2.png?raw=True\" width=\"500\" style=\"float: left;\">\n",
    "<img src=\"https://github.com/degravek/notebooks/blob/master/LLfigs/download-3.png?raw=True\" width=\"500\" style=\"float: left;\">\n",
    "<img src=\"https://github.com/degravek/notebooks/blob/master/LLfigs/download-4.png?raw=True\" width=\"500\" style=\"float: left;\">"
   ]
  },
  {
   "cell_type": "markdown",
   "metadata": {},
   "source": [
    "* When creating word vectors, we can remove stop words, normalize word vectors, etc."
   ]
  },
  {
   "cell_type": "code",
   "execution_count": null,
   "metadata": {
    "scrolled": true
   },
   "outputs": [],
   "source": [
    "param_grid = {'clf__C': np.logspace(-1, 1, 10)}\n",
    "\n",
    "tvec = TfidfVectorizer(analyzer='char', stop_words=None, max_features=50000, norm=None,\n",
    "                                   ngram_range=(1,5), sublinear_tf=True, use_idf=False)\n",
    "\n",
    "pipeline = Pipeline([\n",
    "    ('tvec', tvec),\n",
    "    ('clf', LogisticRegression())\n",
    "])\n",
    "\n",
    "grid_cv = GridSearchCV(pipeline, param_grid=param_grid, scoring='neg_log_loss', cv=5, n_jobs=-1, verbose=5)\n",
    "\n",
    "grid_cv.fit(df_train['Query'], df_train['target'])\n",
    "\n",
    "print(grid_cv.best_params_)\n",
    "print(grid_cv.best_score_)\n",
    "\n",
    "#{'clf__C': 1.291549665014884}\n",
    "#-0.11664037661429921"
   ]
  },
  {
   "cell_type": "markdown",
   "metadata": {},
   "source": [
    "* Recall: Of all specialties in our dataset, how many do we accurately classify?\n",
    "* Precision: Of all *identified* specialties in our dataset, how many of them are actually specialties?\n",
    "* F-score: Average of precision and recall."
   ]
  },
  {
   "cell_type": "code",
   "execution_count": 25,
   "metadata": {},
   "outputs": [
    {
     "name": "stdout",
     "output_type": "stream",
     "text": [
      "             precision    recall  f1-score   support\n",
      "\n",
      "          0       0.96      0.96      0.96      1695\n",
      "          1       0.98      0.96      0.97      3038\n",
      "          2       0.94      0.95      0.95      1365\n",
      "          3       0.97      0.99      0.98      3012\n",
      "          4       0.98      0.97      0.98      1371\n",
      "\n",
      "avg / total       0.97      0.97      0.97     10481\n",
      "\n"
     ]
    }
   ],
   "source": [
    "# Make a prediction\n",
    "predict = grid_cv.best_estimator_.predict(df_test['Query'])\n",
    "\n",
    "print(classification_report(df_test['target'], predict))"
   ]
  },
  {
   "cell_type": "code",
   "execution_count": 28,
   "metadata": {},
   "outputs": [
    {
     "data": {
      "text/plain": [
       "<matplotlib.text.Text at 0x10b9b7208>"
      ]
     },
     "execution_count": 28,
     "metadata": {},
     "output_type": "execute_result"
    },
    {
     "data": {
      "image/png": "[encoded data removed]",
      "text/plain": [
       "<matplotlib.figure.Figure at 0x1143d7080>"
      ]
     },
     "metadata": {},
     "output_type": "display_data"
    }
   ],
   "source": [
    "cm = confusion_matrix(df_test['target'], grid_cv.best_estimator_.predict(df_test['Query'])).T\n",
    "cm = cm.astype('float')/cm.sum(axis=0)\n",
    "\n",
    "fig, ax = mp.subplots(figsize=(8,6))\n",
    "\n",
    "classes = [\"condition\", \"facility\", \"procedure\", \"provider\", \"specialty\"]\n",
    "\n",
    "sns.heatmap(cm, annot=True, cmap='Reds');\n",
    "mp.xlabel('True Label')\n",
    "mp.ylabel('Predicted Label')\n",
    "tick_marks = np.arange(len(classes))\n",
    "mp.xticks(tick_marks + 0.5, classes)\n",
    "mp.yticks(tick_marks + 0.75, classes[::-1])\n",
    "mp.title('accuracy metric')"
   ]
  },
  {
   "cell_type": "markdown",
   "metadata": {},
   "source": [
    "* Confusion matrix shows class accuracies from model predictions.\n",
    "* Of all facilities in our dataset, we classify them correctly 96% of the time (provider 2% of the time)."
   ]
  },
  {
   "cell_type": "markdown",
   "metadata": {},
   "source": [
    "## Save model"
   ]
  },
  {
   "cell_type": "code",
   "execution_count": 38,
   "metadata": {},
   "outputs": [
    {
     "data": {
      "text/plain": [
       "Pipeline(memory=None,\n",
       "     steps=[('feat', FeatureUnion(n_jobs=1,\n",
       "       transformer_list=[('c1', Pipeline(memory=None,\n",
       "     steps=[('sel1', ItemSelector(key='Query')), ('tvec', TfidfVectorizer(analyzer='char', binary=False, decode_error='strict',\n",
       "        dtype=<class 'numpy.int64'>, encoding='utf-8', input='content',\n",
       "       ...         random_state=None, solver='newton-cg', tol=0.0001, verbose=0,\n",
       "          warm_start=False))])"
      ]
     },
     "execution_count": 38,
     "metadata": {},
     "output_type": "execute_result"
    }
   ],
   "source": [
    "from sklearn.externals import joblib\n",
    "\n",
    "tvec = TfidfVectorizer(strip_accents='unicode', analyzer='char', ngram_range=(2,5),\n",
    "                       max_features=100000, norm='l2', stop_words=None, use_idf=True)\n",
    "\n",
    "sc = StandardScaler()\n",
    "\n",
    "val_names = df.drop(['Query','target'], axis=1).columns\n",
    "\n",
    "pipeline = Pipeline([\n",
    "    ('feat', FeatureUnion([\n",
    "    ('c1', Pipeline([('sel1', ItemSelector('Query')), ('tvec', tvec)])),\n",
    "    ('c2', Pipeline([('sel2', ItemSelector(val_names)), ('scale', sc)]))\n",
    "    ])),\n",
    "    ('clf', LogisticRegression(C=48.270709656031833, solver='newton-cg', multi_class='multinomial'))\n",
    "])\n",
    "\n",
    "pipeline.fit(df, df['target'])\n",
    "\n",
    "dest = '/Users/degrave/Healthgrades/search/models/'\n",
    "joblib.dump(pipeline, dest + 'ner25_pipeline.pkl')"
   ]
  },
  {
   "cell_type": "code",
   "execution_count": null,
   "metadata": {
    "collapsed": true
   },
   "outputs": [],
   "source": [
    "classes = [\"condition\", \"procedure\", \"provider\", \"specialty\"]\n",
    "\n",
    "#-------- Baseline LR model (1) (1,1), (1,2), (1,3)\n",
    "neg_log_loss, newton-cg, ovr\n",
    "tvec = TfidfVectorizer(strip_accents='unicode', analyzer='word', ngram_range=(1,3),\n",
    "                       max_features=None, norm=None, stop_words=None, use_idf=False)\n",
    "\n",
    "             precision    recall  f1-score   support\n",
    "\n",
    "          0       0.89      0.95      0.92      1563\n",
    "          1       0.91      0.81      0.86       794\n",
    "          2       0.94      0.97      0.96      1791\n",
    "          3       0.87      0.67      0.76       260\n",
    "\n",
    "avg / total       0.92      0.92      0.91      4408\n",
    "0.95, 0.81, 0.97, 0.67\n",
    "\n",
    "#-------- Baseline LR model (2) (1,1), (1,2), (1,3)\n",
    "accuracy, sag, multinomial\n",
    "tvec = TfidfVectorizer(strip_accents='unicode', analyzer='char', ngram_range=(1,3),\n",
    "                       max_features=None, norm=None, stop_words='english', use_idf=True)\n",
    "\n",
    "             precision    recall  f1-score   support\n",
    "\n",
    "          0       0.93      0.95      0.94      1563\n",
    "          1       0.89      0.88      0.88       794\n",
    "          2       0.96      0.98      0.97      1791\n",
    "          3       0.90      0.75      0.82       260\n",
    "\n",
    "avg / total       0.93      0.93      0.93      4408\n",
    "0.95, 0.88, 0.98, 0.75\n",
    "\n",
    "#-------- Baseline LR model (3): combination of models (1) and (2)\n",
    "accuracy, sag, ovr\n",
    "tvec = TfidfVectorizer(strip_accents='unicode', analyzer='word', ngram_range=(1,3),\n",
    "                       max_features=None, norm=None, stop_words=None, use_idf=False)\n",
    "tvec = TfidfVectorizer(strip_accents='unicode', analyzer='char', ngram_range=(1,3),\n",
    "                       max_features=None, norm=None, stop_words='english', use_idf=True)\n",
    "\n",
    "             precision    recall  f1-score   support\n",
    "\n",
    "          0       0.93      0.95      0.94      1563\n",
    "          1       0.88      0.88      0.88       794\n",
    "          2       0.96      0.98      0.97      1791\n",
    "          3       0.92      0.75      0.82       260\n",
    "\n",
    "avg / total       0.94      0.94      0.93      4408\n",
    "accuracy = 0.95, 0.88, 0.98, 0.75\n",
    "\n",
    "#-------- Baseline LR model (4) using only words (1,1), (2,2), (3,3), (1,2), (1,3)\n",
    "accuracy, lbfgs, ovr\n",
    "tvec = TfidfVectorizer(strip_accents='unicode', analyzer='word', ngram_range=(1,1),\n",
    "                       max_features=None, norm='l1', stop_words=None, use_idf=False)\n",
    "\n",
    "             precision    recall  f1-score   support\n",
    "\n",
    "          0       0.90      0.95      0.92      1563\n",
    "          1       0.90      0.84      0.87       794\n",
    "          2       0.96      0.97      0.96      1791\n",
    "          3       0.86      0.70      0.77       260\n",
    "\n",
    "avg / total       0.92      0.92      0.92      4408\n",
    "0.95, 0.84, 0.97, 0.7\n",
    "\n",
    "#-------- Baseline LR model (5) using only chars (1,1), (2,2), (3,3), (1,2), (1,3)\n",
    "accuracy, lbfgs, multinomial\n",
    "tvec = TfidfVectorizer(strip_accents='unicode', analyzer='char', ngram_range=(3,3),\n",
    "                       max_features=None, norm=None, stop_words=None, use_idf=True)\n",
    "\n",
    "             precision    recall  f1-score   support\n",
    "\n",
    "          0       0.94      0.95      0.94      1563\n",
    "          1       0.89      0.88      0.88       794\n",
    "          2       0.96      0.98      0.97      1791\n",
    "          3       0.88      0.75      0.81       260\n",
    "\n",
    "avg / total       0.93      0.94      0.94      4408\n",
    "0.95, 0.88, 0.98, 0.75\n",
    "\n",
    "#-------- Baseline LR model (6): combination of models (4) and (5)\n",
    "accuracy, lbfgs, multinomial, {'C': 0.016297508346206444}\n",
    "tvec = TfidfVectorizer(strip_accents='unicode', analyzer='word', ngram_range=(1,1),\n",
    "                       max_features=None, norm='l1', stop_words=None, use_idf=False)\n",
    "tvec = TfidfVectorizer(strip_accents='unicode', analyzer='char', ngram_range=(3,3),\n",
    "                       max_features=None, norm=None, stop_words=None, use_idf=True)\n",
    "\n",
    "             precision    recall  f1-score   support\n",
    "\n",
    "          0       0.94      0.95      0.94      1563\n",
    "          1       0.89      0.88      0.88       794\n",
    "          2       0.96      0.98      0.97      1791\n",
    "          3       0.88      0.75      0.81       260\n",
    "\n",
    "avg / total       0.93      0.94      0.94      4408\n",
    "0.95, 0.88, 0.98, 0.75\n",
    "\n",
    "classes = [\"condition\", \"facility\", \"procedure\", \"provider\", \"specialty\"]\n",
    "\n",
    "#-------- Baseline LR model (7): new data from database\n",
    "accuracy, newton-cg, multinomial, {'C': 22.051307399030456}\n",
    "tvec = TfidfVectorizer(strip_accents='unicode', analyzer='word', ngram_range=(1,1),\n",
    "                       max_features=None, norm=None, stop_words=None, use_idf=False)\n",
    "\n",
    "             precision    recall  f1-score   support\n",
    "\n",
    "          0       0.90      0.95      0.93      1531\n",
    "          1       0.99      0.95      0.97      2028\n",
    "          2       0.90      0.83      0.86       830\n",
    "          3       0.95      0.99      0.97      1996\n",
    "          4       0.80      0.72      0.76       225\n",
    "\n",
    "avg / total       0.94      0.94      0.94      6610\n",
    "0.95, 0.95, 0.83, 0.99, 0.72\n",
    "\n",
    "#-------- Baseline LR model (8): new data using only words (1,1), (1,2), (1,3)\n",
    "accuracy, newton-cg, ovr, {'C': 87.084314976907237}\n",
    "tvec = TfidfVectorizer(strip_accents='unicode', analyzer='word', ngram_range=(1,1),\n",
    "                       max_features=None, norm='l2', stop_words=None, use_idf=False)\n",
    "\n",
    "             precision    recall  f1-score   support\n",
    "\n",
    "          0       0.91      0.94      0.93      1531\n",
    "          1       0.99      0.95      0.97      2028\n",
    "          2       0.89      0.85      0.87       830\n",
    "          3       0.95      0.99      0.97      1996\n",
    "          4       0.78      0.71      0.74       225\n",
    "\n",
    "avg / total       0.94      0.94      0.94      6610\n",
    "0.94, 0.95, 0.85, 0.99, 0.71\n",
    "\n",
    "#-------- Baseline LR model (9): new data using only chars (1,1), (1,2), (1,3)\n",
    "accuracy, newton-cg, ovr, {'C': 1.5072253093107555}\n",
    "tvec = TfidfVectorizer(strip_accents='unicode', analyzer='char', ngram_range=(1,3),\n",
    "                       max_features=None, norm=None, stop_words=None, use_idf=False)\n",
    "\n",
    "             precision    recall  f1-score   support\n",
    "\n",
    "          0       0.93      0.94      0.94      1531\n",
    "          1       0.97      0.95      0.96      2028\n",
    "          2       0.87      0.88      0.87       830\n",
    "          3       0.96      0.97      0.96      1996\n",
    "          4       0.86      0.78      0.82       225\n",
    "\n",
    "avg / total       0.94      0.94      0.94      6610\n",
    "0.94, 0.95, 0.88, 0.97, 0.78\n",
    "\n",
    "#-------- *Baseline LR model (9) parameters using MLP neural network\n",
    "512 (relu), do = 0.25, 256 (relu), 64 (relu), 8 (relu), 5 (softmax)\n",
    "optimizer = optimizers.RMSprop(lr=0.00025, rho=0.9, epsilon=1e-08, decay=0.0)\n",
    "loss='sparse_categorical_crossentropy', metrics=['accuracy']\n",
    "epochs=10, batch_size=200, validation_split=0.2\n",
    "\n",
    "          0       0.93      0.94      0.94      1531\n",
    "          1       0.97      0.95      0.96      2028\n",
    "          2       0.87      0.88      0.87       830\n",
    "          3       0.96      0.97      0.96      1996\n",
    "          4       0.86      0.78      0.82       225\n",
    "\n",
    "avg / total       0.94      0.94      0.94      6610\n",
    "0.94, 0.96, 0.84, 0.96, 0.80\n",
    "\n",
    "#-------- Baseline LR model (10): new data, combination of models (8) and (9)\n",
    "accuracy, newton-cg, ovr, {'C': 1.5072253093107555}\n",
    "tvec = TfidfVectorizer(strip_accents='unicode', analyzer='word', ngram_range=(1,1),\n",
    "                       max_features=None, norm='l2', stop_words=None, use_idf=False)\n",
    "tvec = TfidfVectorizer(strip_accents='unicode', analyzer='char', ngram_range=(1,3),\n",
    "                       max_features=None, norm=None, stop_words=None, use_idf=False)\n",
    "\n",
    "             precision    recall  f1-score   support\n",
    "\n",
    "          0       0.94      0.95      0.95      1531\n",
    "          1       0.98      0.96      0.97      2028\n",
    "          2       0.88      0.89      0.89       830\n",
    "          3       0.96      0.98      0.97      1996\n",
    "          4       0.85      0.78      0.81       225\n",
    "\n",
    "avg / total       0.95      0.95      0.95      6610\n",
    "0.95, 0.96, 0.89, 0.98, 0.78\n",
    "\n",
    "#-------- *Baseline LR model (10) parameters using MLP neural network\n",
    "512 (relu), do = 0.25, 256 (relu), 64 (relu), 8 (relu), 5 (softmax)\n",
    "optimizer = optimizers.RMSprop(lr=0.00025, rho=0.9, epsilon=1e-08, decay=0.0)\n",
    "loss='sparse_categorical_crossentropy', metrics=['accuracy']\n",
    "epochs=10, batch_size=200, validation_split=0.2\n",
    "\n",
    "             precision    recall  f1-score   support\n",
    "\n",
    "          0       0.94      0.95      0.95      1531\n",
    "          1       0.98      0.96      0.97      2028\n",
    "          2       0.88      0.89      0.89       830\n",
    "          3       0.96      0.98      0.97      1996\n",
    "          4       0.85      0.78      0.81       225\n",
    "\n",
    "avg / total       0.95      0.95      0.95      6610\n",
    "0.95, 0.96, 0.9, 0.98, 0.73\n",
    "\n",
    "#-------- Baseline LR model (11): using model (9) with pos tags\n",
    "accuracy, newton-cg, ovr, {'C': 1.5072253093107555}\n",
    "tvec = TfidfVectorizer(strip_accents='unicode', analyzer='char', ngram_range=(1,3),\n",
    "                       max_features=None, norm=None, stop_words=None, use_idf=False)\n",
    "\n",
    "             precision    recall  f1-score   support\n",
    "\n",
    "          0       0.94      0.94      0.94      1531\n",
    "          1       0.97      0.96      0.96      2028\n",
    "          2       0.87      0.88      0.87       830\n",
    "          3       0.96      0.98      0.97      1996\n",
    "          4       0.85      0.78      0.81       225\n",
    "\n",
    "avg / total       0.94      0.94      0.94      6610\n",
    "0.94, 0.96, 0.88, 0.98, 0.78"
   ]
  },
  {
   "cell_type": "code",
   "execution_count": null,
   "metadata": {
    "collapsed": true
   },
   "outputs": [],
   "source": [
    "#df = pd.read_csv('/Users/degrave/Healthgrades/search/data/QueryReport.csv')\n",
    "\n",
    "#df.rename(columns={\"Internal Search Term Type\": \"SearchType\", \"HG Internal Search Term (11) (evar11)\": \"Query\",\n",
    "#                  \"HG Internal Site Search (1) (event1)\": \"Event\"}, inplace=True)"
   ]
  },
  {
   "cell_type": "code",
   "execution_count": null,
   "metadata": {
    "collapsed": true
   },
   "outputs": [],
   "source": [
    "figure, axes = mp.subplots(figsize=(10,8))\n",
    "sns.heatmap(df[['numNum','contNum','numTerms','avgLength']].corr(), annot=True, vmax=1, linewidths=0.5)\n",
    "mp.xticks(rotation=45)\n",
    "mp.yticks(rotation=360)\n",
    "mp.show()"
   ]
  },
  {
   "cell_type": "markdown",
   "metadata": {},
   "source": [
    "#### Linear regression: Find the coefficients that produce the best fit line to the data\n",
    "\n",
    "$y = \\beta_0\\, +\\, \\beta x$\n",
    "\n",
    "#### Logistic regression: Find the coefficients which give the best accuracy on training data\n",
    "\n",
    "$h = \\frac{1}{1\\, +\\, e^{-z}}$\n",
    "\n",
    "$z = \\beta_0\\, +\\, \\beta x_1\\, +\\, \\beta_2 x_2\\, +\\, ...\\, +\\, \\beta_n x_n$"
   ]
  },
  {
   "cell_type": "markdown",
   "metadata": {},
   "source": [
    "<script>\n",
    "  $(document).ready(function(){\n",
    "    $('div.prompt').hide();\n",
    "    $('div.back-to-top').hide();\n",
    "    $('.breadcrumb').hide();\n",
    "    $('.hidden-print').hide();\n",
    "  });\n",
    "</script>"
   ]
  }
 ],
 "metadata": {
  "kernelspec": {
   "display_name": "Python 3",
   "language": "python",
   "name": "python3"
  },
  "language_info": {
   "codemirror_mode": {
    "name": "ipython",
    "version": 3
   },
   "file_extension": ".py",
   "mimetype": "text/x-python",
   "name": "python",
   "nbconvert_exporter": "python",
   "pygments_lexer": "ipython3",
   "version": "3.6.1"
  }
 },
 "nbformat": 4,
 "nbformat_minor": 2
}
